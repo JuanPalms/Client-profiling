{
 "cells": [
  {
   "cell_type": "markdown",
   "id": "b91a7eb1",
   "metadata": {},
   "source": [
    "## Explotaratory Data Analysis: ENIF 2021 Profiling"
   ]
  },
  {
   "cell_type": "code",
   "execution_count": 1,
   "id": "4ec0aee8",
   "metadata": {},
   "outputs": [],
   "source": [
    "import pandas as pd\n",
    "import numpy as np\n",
    "import matplotlib as pyplot\n",
    "from pandas_profiling import ProfileReport"
   ]
  },
  {
   "cell_type": "code",
   "execution_count": 2,
   "id": "96f0bad7",
   "metadata": {},
   "outputs": [],
   "source": [
    "ENIF_2021=pd.read_stata('ENIF2021_final.dta')"
   ]
  },
  {
   "cell_type": "code",
   "execution_count": 7,
   "id": "d2609c37",
   "metadata": {},
   "outputs": [
    {
     "name": "stdout",
     "output_type": "stream",
     "text": [
      "['folio', 'viv_sel', 'hogar', 'n_ren', 'p3_1_1', 'p3_1_2', 'p3_2', 'p3_3', 'p3_4', 'p3_5', 'p3_6', 'p3_7', 'p3_8a', 'p3_8b', 'p3_9', 'p3_10', 'p3_11', 'p4_1', 'p4_2_1', 'p4_2_2', 'p4_2_3', 'p4_2_4', 'p4_2_5', 'p4_3', 'p4_4_1', 'p4_4_2', 'p4_4_3', 'p4_4_4', 'p4_4_5', 'p4_4_6', 'p4_4_7', 'p4_5', 'p4_6_1', 'p4_6_2', 'p4_6_3', 'p4_6_4', 'p4_6_5', 'p4_6_6', 'p4_7_1', 'p4_7_2', 'p4_7_3', 'p4_8_1', 'p4_8_2', 'p4_8_3', 'p4_8_4', 'p4_8_5', 'p4_8_6', 'p4_9_1', 'p4_9_2', 'p4_9_3', 'p4_9_4', 'p4_10', 'p5_1_1', 'p5_1_2', 'p5_1_3', 'p5_1_4', 'p5_1_5', 'p5_1_6', 'p5_2_1', 'p5_2_2', 'p5_2_3', 'p5_2_4', 'p5_2_5', 'p5_2_6', 'p5_2_7', 'p5_2_8', 'p5_2_9', 'p5_3', 'p5_4_1', 'p5_5_1', 'p5_6_1', 'p5_7_1', 'p5_4_2', 'p5_5_2', 'p5_6_2', 'p5_7_2', 'p5_4_3', 'p5_5_3', 'p5_6_3', 'p5_7_3', 'p5_4_4', 'p5_5_4', 'p5_6_4', 'p5_7_4', 'p5_4_5', 'p5_5_5', 'p5_6_5', 'p5_7_5', 'p5_4_6', 'p5_5_6', 'p5_7_6', 'p5_4_7', 'p5_5_7', 'p5_7_7', 'p5_4_8', 'p5_5_8', 'p5_6_8', 'p5_7_8', 'p5_4_9', 'p5_5_9', 'p5_6_9', 'p5_7_9', 'p5_8_01', 'p5_8_02', 'p5_8_03', 'p5_8_04', 'p5_8_05', 'p5_8_06', 'p5_8_07', 'p5_8_08', 'p5_8_09', 'p5_8_10', 'filtro_1_secc5', 'p5_9_01', 'p5_9_02', 'p5_9_03', 'p5_9_04', 'p5_9_05', 'p5_9_06', 'p5_9_07', 'p5_9_08', 'p5_9_09', 'p5_10', 'filtro_2_secc5', 'p5_11', 'filtro_3_secc5', 'p5_12', 'p5_13', 'p5_14', 'filtro_4_secc5', 'p5_15', 'p5_16_1', 'p5_16_2', 'p5_16_3', 'p5_16_4', 'p5_16_5', 'p5_17', 'p5_18_01', 'p5_18_02', 'p5_18_03', 'p5_18_04', 'p5_18_05', 'p5_18_06', 'p5_18_07', 'p5_18_08', 'p5_18_09', 'p5_18_10', 'p5_18_11', 'p5_18_12', 'p5_18_99', 'p5_19_1', 'p5_19_2', 'p5_19_3', 'p5_19_4', 'p5_19_5', 'p5_19_6', 'p5_19_7', 'p5_19_9', 'p5_20', 'p5_21', 'p5_22', 'p5_23', 'p5_24', 'p6_1_1', 'p6_1_2', 'p6_1_3', 'p6_1_4', 'p6_1_5', 'p6_2_1', 'p6_3_1', 'p6_4_1', 'p6_4a_1', 'p6_2_2', 'p6_3_2', 'p6_4_2', 'p6_4a_2', 'p6_2_3', 'p6_3_3', 'p6_4_3', 'p6_4a_3', 'p6_2_4', 'p6_3_4', 'p6_4_4', 'p6_4a_4', 'p6_2_5', 'p6_3_5', 'p6_4_5', 'p6_4a_5', 'p6_2_6', 'p6_3_6', 'p6_4_6', 'p6_4a_6', 'p6_2_7', 'p6_3_7', 'p6_4_7', 'p6_4a_7', 'p6_2_8', 'p6_3_8', 'p6_4_8', 'p6_4a_8', 'p6_2_9', 'p6_3_9', 'p6_4_9', 'p6_4a_9', 'p6_5', 'p6_6', 'p6_7', 'p6_8_01', 'p6_8_02', 'p6_8_03', 'p6_8_04', 'p6_8_05', 'p6_8_06', 'p6_8_07', 'p6_8_08', 'p6_8_09', 'p6_8_10', 'p6_8_11', 'p6_8_12', 'p6_8_13', 'p6_8_99', 'filtro_1_secc6', 'p6_9', 'p6_10', 'p6_11', 'p6_12_1', 'p6_12_2', 'p6_12_3', 'p6_12_4', 'p6_12_5', 'p6_13', 'p6_14', 'p6_15', 'p6_16', 'p6_17', 'p6_18_1', 'p6_18_2', 'p6_18_3', 'p6_18_4', 'p6_18_5', 'p6_18_6', 'p6_18_9', 'p7_1_1', 'p7_1_2', 'p7_2', 'p7_3', 'p7_4', 'p7_5', 'p7_6', 'p7_7_1', 'p7_8_1_1', 'p7_8_1_2', 'p7_8_1_3', 'p7_7_2', 'p7_8_2_1', 'p7_8_2_2', 'p7_8_2_3', 'p7_7_3', 'p7_8_3_1', 'p7_8_3_2', 'p7_8_3_3', 'p7_7_4', 'p7_8_4_1', 'p7_8_4_2', 'p7_8_4_3', 'p8_1', 'p8_2', 'p8_3', 'p8_4', 'p8_5', 'p8_6_1', 'p8_7_1', 'p8_6_2', 'p8_7_2', 'p8_8_2', 'p8_9_2', 'p8_10_2', 'p8_6_3', 'p8_7_3', 'p8_8_3', 'p8_9_3', 'p8_10_3', 'p8_6_4', 'p8_7_4', 'p8_8_4', 'p8_9_4', 'p8_10_4', 'p8_6_5', 'p8_7_5', 'p8_8_5', 'p8_9_5', 'p8_10_5', 'p8_6_6', 'p8_6_7', 'p8_6_8', 'p8_7_8', 'p8_8_8', 'p8_9_8', 'p8_10_8', 'filtro_1_secc8', 'p8_11', 'p8_12_1', 'p8_12_2', 'p8_12_3', 'p8_12_4', 'p8_12_5', 'p9_1', 'p9_1a', 'p9_2', 'p9_3', 'p9_4', 'p9_5', 'p9_6', 'p9_7', 'p9_8_1', 'p9_8_2', 'p9_8_3', 'p9_8_4', 'p9_8_5', 'p9_8_6', 'p10_1', 'p10_2', 'p10_3_1', 'p10_3_2', 'p10_4', 'p10_5', 'p10_6_1', 'p10_6_2', 'p10_7', 'p10_8', 'p10_9_1', 'p10_9_2', 'p11_1_1', 'p11_1_2', 'p11_1_3', 'p11_1_4', 'p11_1_5', 'p11_2_1', 'p11_2_2', 'p11_2_3', 'p11_2_4', 'p11_3_1', 'p11_3_2', 'p11_3_3', 'p11_3_4', 'p11_3_9', 'p11_4', 'p12_1', 'p12_2_1', 'p12_2_2', 'p12_2_3', 'p12_3_1', 'p12_3_2', 'p12_3_3', 'p12_3_4', 'p12_3_5', 'p12_3_6', 'p12_3_7', 'p12_3_8', 'p12_4', 'p13_1', 'p13_2', 'p13_3', 'p13_4', 'p14_1', 'p14_2_1', 'p14_3_1', 'p14_4_1', 'p14_2_2', 'p14_3_2', 'p14_4_2', 'p14_2_3', 'p14_3_3', 'p14_4_3', 'p14_2_4', 'tloc', 'region', 'sexo', 'edad', 'est_dis', 'upm_dis', 'fac_ele', 'p2_3', 'niv', 'gra', 'fac_hog', 'p2_8', 'p0_1', 'p0_2', 'p0_3', 'p0_4_1', 'p0_4_1a', 'p0_4_2', 'p0_4_2a', 'p1_1', 'p1_2', 'p1_3', 'fac_viv', 'cond_laboral', 'formal', 'ingresos_mensuales', 'niv_ingresos', 'indigena', 'edad_niveles', 'escolaridad', 'cuenta', 'cuenta_singob', 'cuenta_gob', 'cuenta_sologob', 'ahorro_informal', 'ahorro_ambos', 'credito_informal', 'credito_formal', 'credito', 'cuenta_dig', 'cuenta_dig_porcentajecuenta', 'tarjeta_debito', 'tarjeta_credito', 'credito_dig', 'credito_dig_porcentajecredito', 'acceso_dig', 'comparacion_credito', 'comparacion_banxico', 'cashlees_payments_menos500', 'cashlees_payments_mas500', 'codi_conoce', 'codi_uso', 'codi_uso_pob', 'remesas', 'remesas_efectivo', 'comercios', 'pago_pequecomercio', 'super_farmacia', 'pago_superfarmacia', 'servicios', 'pago_servicios', 'transporte', 'pago_transporte', 'sucursal_uso', 'cajeros_uso', 'corresponsales_uso', 'uso_tddebito', 'uso_tdcredito', 'seguro_tenencia', 'afore_tenencia', 'tenencia_celular', 'cuenta_celular', 'presupuesto', 'deudas', 'resiliencia', 'producto_formal', 'uso_tdd_veces', 'minutos_sucursal', 'distancia_sucursal', 'minutos_cajero', 'distancia_cajero', 'minutos_corresponsal', 'distancia_corresponsal', 'puntajea', 'puntajeb', 'puntajec', 'puntajed', 'puntajee', 'indicador_bf', 'conocimientos_financieros', 'indicador_planeacion', 'indicador_liquidez']\n"
     ]
    }
   ],
   "source": [
    "columns_headers=list(ENIF_2021.columns.values)\n",
    "print(columns_headers)"
   ]
  },
  {
   "cell_type": "code",
   "execution_count": 33,
   "id": "cd0a18c5",
   "metadata": {},
   "outputs": [],
   "source": [
    "def SUMA_AMAI(x,y,z,w,k,u):\n",
    "    suma=0\n",
    "    if (x==1):\n",
    "        suma+=24\n",
    "    elif (x>1):\n",
    "        suma+=47\n",
    "    if (y==1):\n",
    "        suma+=22\n",
    "    elif (y>1):\n",
    "        suma+=43\n",
    "    if (z==1):\n",
    "        suma+=32\n",
    "    if (w==1):\n",
    "        suma+=15\n",
    "    elif(w==2):\n",
    "        suma+=31\n",
    "    elif(w==3):\n",
    "        suma+=46\n",
    "    elif(w>3):\n",
    "        suma+=61\n",
    "    if(k==1):\n",
    "        suma+=8\n",
    "    elif(k==2):\n",
    "        suma+=16\n",
    "    elif(k==3):\n",
    "        suma+=24\n",
    "    elif(k>3):\n",
    "        suma+=32\n",
    "    if(u==1):\n",
    "        suma+=6\n",
    "    elif(u==2):\n",
    "        suma+=11\n",
    "    elif(u==3):\n",
    "        suma+=18\n",
    "    elif(u==4):\n",
    "        suma+=23\n",
    "    elif(u==5):\n",
    "        suma+=27\n",
    "    elif(u==6):\n",
    "        suma+=27\n",
    "    elif(u==7):\n",
    "        suma+=27\n",
    "    elif(u==8):\n",
    "        suma+=59\n",
    "    elif(u==9):\n",
    "        suma+=85\n",
    "    else:\n",
    "        suma+=0\n",
    "    return suma"
   ]
  },
  {
   "cell_type": "code",
   "execution_count": 34,
   "id": "d774f117",
   "metadata": {},
   "outputs": [],
   "source": [
    "ENIF_2021['Suma_AMAI'] = ENIF_2021.apply(lambda x: SUMA_AMAI(x['p0_3'],x['p0_4_1a'],x['p0_4_2a'],x['p2_8'],\n",
    "                                                            x['p0_1'],x['niv']), axis=1)"
   ]
  },
  {
   "cell_type": "code",
   "execution_count": 35,
   "id": "1e206a18",
   "metadata": {},
   "outputs": [
    {
     "data": {
      "text/plain": [
       "count    13554.000000\n",
       "mean       109.640696\n",
       "std         48.025022\n",
       "min          8.000000\n",
       "25%         73.000000\n",
       "50%        109.000000\n",
       "75%        141.000000\n",
       "max        285.000000\n",
       "Name: Suma_AMAI, dtype: float64"
      ]
     },
     "execution_count": 35,
     "metadata": {},
     "output_type": "execute_result"
    }
   ],
   "source": [
    "ENIF_2021['Suma_AMAI'].describe()"
   ]
  },
  {
   "cell_type": "markdown",
   "id": "bd9cb4ac",
   "metadata": {},
   "source": [
    "### ANALISIS PREELIMINAR DE VARIABLES"
   ]
  },
  {
   "cell_type": "markdown",
   "id": "0439ddcc",
   "metadata": {},
   "source": [
    "#### Variables sociodemograficas grupo de interes\n",
    "\n",
    "Analisis exploratorio de las variables sociodemograficas del grupo objetivo:\n",
    "Personas de 18 a 34 anios"
   ]
  },
  {
   "cell_type": "code",
   "execution_count": null,
   "id": "813951c6",
   "metadata": {},
   "outputs": [],
   "source": [
    "Dems=['']"
   ]
  },
  {
   "cell_type": "code",
   "execution_count": null,
   "id": "9c5f99b3",
   "metadata": {},
   "outputs": [],
   "source": []
  },
  {
   "cell_type": "code",
   "execution_count": 9,
   "id": "b1abc2ad",
   "metadata": {},
   "outputs": [],
   "source": [
    "ENIF_reducida=ENIF_2021[cols]"
   ]
  },
  {
   "cell_type": "code",
   "execution_count": 10,
   "id": "438f307f",
   "metadata": {},
   "outputs": [],
   "source": [
    "profile= ProfileReport(ENIF_reducida.copy(),title=\"Pandas Profile Reporting\")"
   ]
  },
  {
   "cell_type": "code",
   "execution_count": 11,
   "id": "3a8b5bd4",
   "metadata": {},
   "outputs": [
    {
     "data": {
      "application/vnd.jupyter.widget-view+json": {
       "model_id": "9495ec6828fa433f9b70cf6fc00a9ace",
       "version_major": 2,
       "version_minor": 0
      },
      "text/plain": [
       "Summarize dataset:   0%|          | 0/97 [00:00<?, ?it/s]"
      ]
     },
     "metadata": {},
     "output_type": "display_data"
    },
    {
     "data": {
      "application/vnd.jupyter.widget-view+json": {
       "model_id": "2ef30b9cf75746238c631390ed27285b",
       "version_major": 2,
       "version_minor": 0
      },
      "text/plain": [
       "Generate report structure:   0%|          | 0/1 [00:00<?, ?it/s]"
      ]
     },
     "metadata": {},
     "output_type": "display_data"
    },
    {
     "data": {
      "application/vnd.jupyter.widget-view+json": {
       "model_id": "b1a9915ccdcd43ffb04a4e2a81c04f5b",
       "version_major": 2,
       "version_minor": 0
      },
      "text/plain": [
       "Render HTML:   0%|          | 0/1 [00:00<?, ?it/s]"
      ]
     },
     "metadata": {},
     "output_type": "display_data"
    },
    {
     "data": {
      "application/vnd.jupyter.widget-view+json": {
       "model_id": "c89a9dee8d034ff281e804ed41bb3d6d",
       "version_major": 2,
       "version_minor": 0
      },
      "text/plain": [
       "Export report to file:   0%|          | 0/1 [00:00<?, ?it/s]"
      ]
     },
     "metadata": {},
     "output_type": "display_data"
    }
   ],
   "source": [
    "profile.to_file('profile_report.html')"
   ]
  },
  {
   "cell_type": "code",
   "execution_count": 14,
   "id": "86d637a2",
   "metadata": {},
   "outputs": [],
   "source": [
    "#Division por edades\n",
    "grupos_edad=[\n",
    "    (ENIF_2021['edad']<35),\n",
    "    (ENIF_2021['edad']>=35)\n",
    "]\n",
    "labels_edad=['Edad objetivo(<34)','Mas de 34']\n",
    "\n",
    "ENIF_2021['Grupos_edad']=np.select(grupos_edad,labels_edad)\n",
    "\n",
    "#ENIF_2021['Grupos_edad'].isna().sum()\n",
    "#No missing data in Grupos_edad"
   ]
  },
  {
   "cell_type": "code",
   "execution_count": 19,
   "id": "d1b9ca61",
   "metadata": {},
   "outputs": [
    {
     "data": {
      "text/plain": [
       "0"
      ]
     },
     "execution_count": 19,
     "metadata": {},
     "output_type": "execute_result"
    }
   ],
   "source": [
    "ENIF_2021['sexo'].isna().sum()"
   ]
  },
  {
   "cell_type": "code",
   "execution_count": 9,
   "id": "9a339949",
   "metadata": {},
   "outputs": [],
   "source": [
    "hombres=ENIF_2021.groupby('sexo').get_group(1)"
   ]
  },
  {
   "cell_type": "code",
   "execution_count": 10,
   "id": "f2edf329",
   "metadata": {},
   "outputs": [
    {
     "data": {
      "text/html": [
       "<div>\n",
       "<style scoped>\n",
       "    .dataframe tbody tr th:only-of-type {\n",
       "        vertical-align: middle;\n",
       "    }\n",
       "\n",
       "    .dataframe tbody tr th {\n",
       "        vertical-align: top;\n",
       "    }\n",
       "\n",
       "    .dataframe thead th {\n",
       "        text-align: right;\n",
       "    }\n",
       "</style>\n",
       "<table border=\"1\" class=\"dataframe\">\n",
       "  <thead>\n",
       "    <tr style=\"text-align: right;\">\n",
       "      <th></th>\n",
       "      <th>folio</th>\n",
       "      <th>viv_sel</th>\n",
       "      <th>hogar</th>\n",
       "      <th>n_ren</th>\n",
       "      <th>p3_1_1</th>\n",
       "      <th>p3_1_2</th>\n",
       "      <th>p3_2</th>\n",
       "      <th>p3_3</th>\n",
       "      <th>p3_4</th>\n",
       "      <th>p3_5</th>\n",
       "      <th>...</th>\n",
       "      <th>minutos_corresponsal</th>\n",
       "      <th>puntajea</th>\n",
       "      <th>puntajeb</th>\n",
       "      <th>puntajec</th>\n",
       "      <th>puntajed</th>\n",
       "      <th>puntajee</th>\n",
       "      <th>indicador_bf</th>\n",
       "      <th>conocimientos_financieros</th>\n",
       "      <th>indicador_planeacion</th>\n",
       "      <th>indicador_liquidez</th>\n",
       "    </tr>\n",
       "  </thead>\n",
       "  <tbody>\n",
       "    <tr>\n",
       "      <th>count</th>\n",
       "      <td>6209.000000</td>\n",
       "      <td>6209.000000</td>\n",
       "      <td>6209.000000</td>\n",
       "      <td>6209.000000</td>\n",
       "      <td>6209.000000</td>\n",
       "      <td>6209.000000</td>\n",
       "      <td>6209.000000</td>\n",
       "      <td>6209.000000</td>\n",
       "      <td>6209.000000</td>\n",
       "      <td>6209.000000</td>\n",
       "      <td>...</td>\n",
       "      <td>2943.000000</td>\n",
       "      <td>6147.000000</td>\n",
       "      <td>6171.000000</td>\n",
       "      <td>6189.000000</td>\n",
       "      <td>6152.000000</td>\n",
       "      <td>6191.000000</td>\n",
       "      <td>6060.000000</td>\n",
       "      <td>6209.000000</td>\n",
       "      <td>6209.000000</td>\n",
       "      <td>6209.000000</td>\n",
       "    </tr>\n",
       "    <tr>\n",
       "      <th>mean</th>\n",
       "      <td>6638.637784</td>\n",
       "      <td>6.539861</td>\n",
       "      <td>1.017877</td>\n",
       "      <td>1.561765</td>\n",
       "      <td>4.551297</td>\n",
       "      <td>3.307618</td>\n",
       "      <td>4.112256</td>\n",
       "      <td>1.932517</td>\n",
       "      <td>1.862941</td>\n",
       "      <td>1.941053</td>\n",
       "      <td>...</td>\n",
       "      <td>11.557934</td>\n",
       "      <td>0.521962</td>\n",
       "      <td>0.535732</td>\n",
       "      <td>0.473340</td>\n",
       "      <td>0.511785</td>\n",
       "      <td>0.383783</td>\n",
       "      <td>0.487887</td>\n",
       "      <td>2.311322</td>\n",
       "      <td>0.217346</td>\n",
       "      <td>0.628141</td>\n",
       "    </tr>\n",
       "    <tr>\n",
       "      <th>std</th>\n",
       "      <td>3843.054182</td>\n",
       "      <td>5.572310</td>\n",
       "      <td>0.148562</td>\n",
       "      <td>1.040619</td>\n",
       "      <td>2.560414</td>\n",
       "      <td>1.518807</td>\n",
       "      <td>1.874130</td>\n",
       "      <td>0.250876</td>\n",
       "      <td>0.343937</td>\n",
       "      <td>2.099507</td>\n",
       "      <td>...</td>\n",
       "      <td>21.109594</td>\n",
       "      <td>0.425846</td>\n",
       "      <td>0.432722</td>\n",
       "      <td>0.438175</td>\n",
       "      <td>0.398206</td>\n",
       "      <td>0.348458</td>\n",
       "      <td>0.260909</td>\n",
       "      <td>0.808231</td>\n",
       "      <td>0.366847</td>\n",
       "      <td>0.243173</td>\n",
       "    </tr>\n",
       "    <tr>\n",
       "      <th>min</th>\n",
       "      <td>3.000000</td>\n",
       "      <td>1.000000</td>\n",
       "      <td>1.000000</td>\n",
       "      <td>1.000000</td>\n",
       "      <td>0.000000</td>\n",
       "      <td>0.000000</td>\n",
       "      <td>1.000000</td>\n",
       "      <td>1.000000</td>\n",
       "      <td>1.000000</td>\n",
       "      <td>1.000000</td>\n",
       "      <td>...</td>\n",
       "      <td>0.000000</td>\n",
       "      <td>0.000000</td>\n",
       "      <td>0.000000</td>\n",
       "      <td>0.000000</td>\n",
       "      <td>0.000000</td>\n",
       "      <td>0.000000</td>\n",
       "      <td>0.000000</td>\n",
       "      <td>0.000000</td>\n",
       "      <td>0.000000</td>\n",
       "      <td>0.000000</td>\n",
       "    </tr>\n",
       "    <tr>\n",
       "      <th>25%</th>\n",
       "      <td>3319.000000</td>\n",
       "      <td>2.000000</td>\n",
       "      <td>1.000000</td>\n",
       "      <td>1.000000</td>\n",
       "      <td>2.000000</td>\n",
       "      <td>3.000000</td>\n",
       "      <td>2.000000</td>\n",
       "      <td>2.000000</td>\n",
       "      <td>2.000000</td>\n",
       "      <td>1.000000</td>\n",
       "      <td>...</td>\n",
       "      <td>5.000000</td>\n",
       "      <td>0.000000</td>\n",
       "      <td>0.000000</td>\n",
       "      <td>0.000000</td>\n",
       "      <td>0.000000</td>\n",
       "      <td>0.000000</td>\n",
       "      <td>0.300000</td>\n",
       "      <td>2.000000</td>\n",
       "      <td>0.000000</td>\n",
       "      <td>0.400000</td>\n",
       "    </tr>\n",
       "    <tr>\n",
       "      <th>50%</th>\n",
       "      <td>6656.000000</td>\n",
       "      <td>4.000000</td>\n",
       "      <td>1.000000</td>\n",
       "      <td>1.000000</td>\n",
       "      <td>3.000000</td>\n",
       "      <td>3.000000</td>\n",
       "      <td>5.000000</td>\n",
       "      <td>2.000000</td>\n",
       "      <td>2.000000</td>\n",
       "      <td>1.000000</td>\n",
       "      <td>...</td>\n",
       "      <td>5.000000</td>\n",
       "      <td>0.500000</td>\n",
       "      <td>0.500000</td>\n",
       "      <td>0.500000</td>\n",
       "      <td>0.500000</td>\n",
       "      <td>0.500000</td>\n",
       "      <td>0.500000</td>\n",
       "      <td>3.000000</td>\n",
       "      <td>0.000000</td>\n",
       "      <td>0.600000</td>\n",
       "    </tr>\n",
       "    <tr>\n",
       "      <th>75%</th>\n",
       "      <td>9964.000000</td>\n",
       "      <td>10.000000</td>\n",
       "      <td>1.000000</td>\n",
       "      <td>2.000000</td>\n",
       "      <td>7.000000</td>\n",
       "      <td>4.000000</td>\n",
       "      <td>5.000000</td>\n",
       "      <td>2.000000</td>\n",
       "      <td>2.000000</td>\n",
       "      <td>1.000000</td>\n",
       "      <td>...</td>\n",
       "      <td>10.000000</td>\n",
       "      <td>1.000000</td>\n",
       "      <td>1.000000</td>\n",
       "      <td>1.000000</td>\n",
       "      <td>1.000000</td>\n",
       "      <td>0.500000</td>\n",
       "      <td>0.700000</td>\n",
       "      <td>3.000000</td>\n",
       "      <td>0.500000</td>\n",
       "      <td>0.800000</td>\n",
       "    </tr>\n",
       "    <tr>\n",
       "      <th>max</th>\n",
       "      <td>13351.000000</td>\n",
       "      <td>23.000000</td>\n",
       "      <td>5.000000</td>\n",
       "      <td>15.000000</td>\n",
       "      <td>9.000000</td>\n",
       "      <td>6.000000</td>\n",
       "      <td>6.000000</td>\n",
       "      <td>2.000000</td>\n",
       "      <td>2.000000</td>\n",
       "      <td>8.000000</td>\n",
       "      <td>...</td>\n",
       "      <td>510.000000</td>\n",
       "      <td>1.000000</td>\n",
       "      <td>1.000000</td>\n",
       "      <td>1.000000</td>\n",
       "      <td>1.000000</td>\n",
       "      <td>1.000000</td>\n",
       "      <td>1.000000</td>\n",
       "      <td>3.000000</td>\n",
       "      <td>1.000000</td>\n",
       "      <td>1.000000</td>\n",
       "    </tr>\n",
       "  </tbody>\n",
       "</table>\n",
       "<p>8 rows × 413 columns</p>\n",
       "</div>"
      ],
      "text/plain": [
       "              folio      viv_sel        hogar        n_ren       p3_1_1  \\\n",
       "count   6209.000000  6209.000000  6209.000000  6209.000000  6209.000000   \n",
       "mean    6638.637784     6.539861     1.017877     1.561765     4.551297   \n",
       "std     3843.054182     5.572310     0.148562     1.040619     2.560414   \n",
       "min        3.000000     1.000000     1.000000     1.000000     0.000000   \n",
       "25%     3319.000000     2.000000     1.000000     1.000000     2.000000   \n",
       "50%     6656.000000     4.000000     1.000000     1.000000     3.000000   \n",
       "75%     9964.000000    10.000000     1.000000     2.000000     7.000000   \n",
       "max    13351.000000    23.000000     5.000000    15.000000     9.000000   \n",
       "\n",
       "            p3_1_2         p3_2         p3_3         p3_4         p3_5  ...  \\\n",
       "count  6209.000000  6209.000000  6209.000000  6209.000000  6209.000000  ...   \n",
       "mean      3.307618     4.112256     1.932517     1.862941     1.941053  ...   \n",
       "std       1.518807     1.874130     0.250876     0.343937     2.099507  ...   \n",
       "min       0.000000     1.000000     1.000000     1.000000     1.000000  ...   \n",
       "25%       3.000000     2.000000     2.000000     2.000000     1.000000  ...   \n",
       "50%       3.000000     5.000000     2.000000     2.000000     1.000000  ...   \n",
       "75%       4.000000     5.000000     2.000000     2.000000     1.000000  ...   \n",
       "max       6.000000     6.000000     2.000000     2.000000     8.000000  ...   \n",
       "\n",
       "       minutos_corresponsal     puntajea     puntajeb     puntajec  \\\n",
       "count           2943.000000  6147.000000  6171.000000  6189.000000   \n",
       "mean              11.557934     0.521962     0.535732     0.473340   \n",
       "std               21.109594     0.425846     0.432722     0.438175   \n",
       "min                0.000000     0.000000     0.000000     0.000000   \n",
       "25%                5.000000     0.000000     0.000000     0.000000   \n",
       "50%                5.000000     0.500000     0.500000     0.500000   \n",
       "75%               10.000000     1.000000     1.000000     1.000000   \n",
       "max              510.000000     1.000000     1.000000     1.000000   \n",
       "\n",
       "          puntajed     puntajee  indicador_bf  conocimientos_financieros  \\\n",
       "count  6152.000000  6191.000000   6060.000000                6209.000000   \n",
       "mean      0.511785     0.383783      0.487887                   2.311322   \n",
       "std       0.398206     0.348458      0.260909                   0.808231   \n",
       "min       0.000000     0.000000      0.000000                   0.000000   \n",
       "25%       0.000000     0.000000      0.300000                   2.000000   \n",
       "50%       0.500000     0.500000      0.500000                   3.000000   \n",
       "75%       1.000000     0.500000      0.700000                   3.000000   \n",
       "max       1.000000     1.000000      1.000000                   3.000000   \n",
       "\n",
       "       indicador_planeacion  indicador_liquidez  \n",
       "count           6209.000000         6209.000000  \n",
       "mean               0.217346            0.628141  \n",
       "std                0.366847            0.243173  \n",
       "min                0.000000            0.000000  \n",
       "25%                0.000000            0.400000  \n",
       "50%                0.000000            0.600000  \n",
       "75%                0.500000            0.800000  \n",
       "max                1.000000            1.000000  \n",
       "\n",
       "[8 rows x 413 columns]"
      ]
     },
     "execution_count": 10,
     "metadata": {},
     "output_type": "execute_result"
    }
   ],
   "source": [
    "hombres.describe()"
   ]
  },
  {
   "cell_type": "code",
   "execution_count": 11,
   "id": "f114986a",
   "metadata": {},
   "outputs": [
    {
     "data": {
      "text/html": [
       "<div>\n",
       "<style scoped>\n",
       "    .dataframe tbody tr th:only-of-type {\n",
       "        vertical-align: middle;\n",
       "    }\n",
       "\n",
       "    .dataframe tbody tr th {\n",
       "        vertical-align: top;\n",
       "    }\n",
       "\n",
       "    .dataframe thead tr th {\n",
       "        text-align: left;\n",
       "    }\n",
       "\n",
       "    .dataframe thead tr:last-of-type th {\n",
       "        text-align: right;\n",
       "    }\n",
       "</style>\n",
       "<table border=\"1\" class=\"dataframe\">\n",
       "  <thead>\n",
       "    <tr>\n",
       "      <th></th>\n",
       "      <th colspan=\"8\" halign=\"left\">folio</th>\n",
       "      <th colspan=\"2\" halign=\"left\">viv_sel</th>\n",
       "      <th>...</th>\n",
       "      <th colspan=\"2\" halign=\"left\">indicador_planeacion</th>\n",
       "      <th colspan=\"8\" halign=\"left\">indicador_liquidez</th>\n",
       "    </tr>\n",
       "    <tr>\n",
       "      <th></th>\n",
       "      <th>count</th>\n",
       "      <th>mean</th>\n",
       "      <th>std</th>\n",
       "      <th>min</th>\n",
       "      <th>25%</th>\n",
       "      <th>50%</th>\n",
       "      <th>75%</th>\n",
       "      <th>max</th>\n",
       "      <th>count</th>\n",
       "      <th>mean</th>\n",
       "      <th>...</th>\n",
       "      <th>75%</th>\n",
       "      <th>max</th>\n",
       "      <th>count</th>\n",
       "      <th>mean</th>\n",
       "      <th>std</th>\n",
       "      <th>min</th>\n",
       "      <th>25%</th>\n",
       "      <th>50%</th>\n",
       "      <th>75%</th>\n",
       "      <th>max</th>\n",
       "    </tr>\n",
       "    <tr>\n",
       "      <th>sexo</th>\n",
       "      <th></th>\n",
       "      <th></th>\n",
       "      <th></th>\n",
       "      <th></th>\n",
       "      <th></th>\n",
       "      <th></th>\n",
       "      <th></th>\n",
       "      <th></th>\n",
       "      <th></th>\n",
       "      <th></th>\n",
       "      <th></th>\n",
       "      <th></th>\n",
       "      <th></th>\n",
       "      <th></th>\n",
       "      <th></th>\n",
       "      <th></th>\n",
       "      <th></th>\n",
       "      <th></th>\n",
       "      <th></th>\n",
       "      <th></th>\n",
       "      <th></th>\n",
       "    </tr>\n",
       "  </thead>\n",
       "  <tbody>\n",
       "    <tr>\n",
       "      <th>1</th>\n",
       "      <td>6209.0</td>\n",
       "      <td>6638.637784</td>\n",
       "      <td>3843.054182</td>\n",
       "      <td>3.0</td>\n",
       "      <td>3319.0</td>\n",
       "      <td>6656.0</td>\n",
       "      <td>9964.0</td>\n",
       "      <td>13351.0</td>\n",
       "      <td>6209.0</td>\n",
       "      <td>6.539861</td>\n",
       "      <td>...</td>\n",
       "      <td>0.5</td>\n",
       "      <td>1.0</td>\n",
       "      <td>6209.0</td>\n",
       "      <td>0.628141</td>\n",
       "      <td>0.243173</td>\n",
       "      <td>0.0</td>\n",
       "      <td>0.4</td>\n",
       "      <td>0.6</td>\n",
       "      <td>0.8</td>\n",
       "      <td>1.0</td>\n",
       "    </tr>\n",
       "    <tr>\n",
       "      <th>2</th>\n",
       "      <td>7345.0</td>\n",
       "      <td>6708.034990</td>\n",
       "      <td>3864.041595</td>\n",
       "      <td>1.0</td>\n",
       "      <td>3357.0</td>\n",
       "      <td>6710.0</td>\n",
       "      <td>10046.0</td>\n",
       "      <td>13352.0</td>\n",
       "      <td>7345.0</td>\n",
       "      <td>6.540640</td>\n",
       "      <td>...</td>\n",
       "      <td>0.5</td>\n",
       "      <td>1.0</td>\n",
       "      <td>7345.0</td>\n",
       "      <td>0.625952</td>\n",
       "      <td>0.236303</td>\n",
       "      <td>0.0</td>\n",
       "      <td>0.4</td>\n",
       "      <td>0.6</td>\n",
       "      <td>0.8</td>\n",
       "      <td>1.0</td>\n",
       "    </tr>\n",
       "  </tbody>\n",
       "</table>\n",
       "<p>2 rows × 3296 columns</p>\n",
       "</div>"
      ],
      "text/plain": [
       "       folio                                                                   \\\n",
       "       count         mean          std  min     25%     50%      75%      max   \n",
       "sexo                                                                            \n",
       "1     6209.0  6638.637784  3843.054182  3.0  3319.0  6656.0   9964.0  13351.0   \n",
       "2     7345.0  6708.034990  3864.041595  1.0  3357.0  6710.0  10046.0  13352.0   \n",
       "\n",
       "     viv_sel            ... indicador_planeacion      indicador_liquidez  \\\n",
       "       count      mean  ...                  75%  max              count   \n",
       "sexo                    ...                                                \n",
       "1     6209.0  6.539861  ...                  0.5  1.0             6209.0   \n",
       "2     7345.0  6.540640  ...                  0.5  1.0             7345.0   \n",
       "\n",
       "                                                   \n",
       "          mean       std  min  25%  50%  75%  max  \n",
       "sexo                                               \n",
       "1     0.628141  0.243173  0.0  0.4  0.6  0.8  1.0  \n",
       "2     0.625952  0.236303  0.0  0.4  0.6  0.8  1.0  \n",
       "\n",
       "[2 rows x 3296 columns]"
      ]
     },
     "execution_count": 11,
     "metadata": {},
     "output_type": "execute_result"
    }
   ],
   "source": [
    "ENIF_2021.groupby('sexo').describe()"
   ]
  },
  {
   "cell_type": "code",
   "execution_count": 14,
   "id": "6a9e168a",
   "metadata": {},
   "outputs": [
    {
     "data": {
      "text/plain": [
       "<bound method NDFrame._add_numeric_operations.<locals>.sum of 0        Con cuenta\n",
       "1        Con cuenta\n",
       "2        Con cuenta\n",
       "3        Con cuenta\n",
       "4        Con cuenta\n",
       "            ...    \n",
       "13549    Sin cuenta\n",
       "13550    Sin cuenta\n",
       "13551    Sin cuenta\n",
       "13552    Sin cuenta\n",
       "13553    Sin cuenta\n",
       "Name: cuenta, Length: 13554, dtype: category\n",
       "Categories (2, object): ['Sin cuenta' < 'Con cuenta']>"
      ]
     },
     "execution_count": 14,
     "metadata": {},
     "output_type": "execute_result"
    }
   ],
   "source": [
    "ENIF_2021[]"
   ]
  },
  {
   "cell_type": "code",
   "execution_count": 17,
   "id": "bfb229ea",
   "metadata": {},
   "outputs": [
    {
     "name": "stdout",
     "output_type": "stream",
     "text": [
      "90328320\n"
     ]
    }
   ],
   "source": [
    "total_pob = ENIF_2021['fac_ele'].sum()\n",
    "print(total_pob)"
   ]
  },
  {
   "cell_type": "code",
   "execution_count": 37,
   "id": "32c66ab7",
   "metadata": {},
   "outputs": [],
   "source": [
    "edad_35=(ENIF_2021[\"edad\"] <= 35)\n",
    "edad_35_mas=(ENIF_2021[\"edad\"] >35)\n",
    "cuenta=(ENIF_2021[\"cuenta\"]==\"Con cuenta\")"
   ]
  },
  {
   "cell_type": "code",
   "execution_count": 34,
   "id": "887de422",
   "metadata": {},
   "outputs": [],
   "source": [
    "below_36 = ENIF_2021[edad_35]\n",
    "from35_andup= ENIF_2021[edad_35_mas]"
   ]
  },
  {
   "cell_type": "code",
   "execution_count": 35,
   "id": "82477cd7",
   "metadata": {},
   "outputs": [
    {
     "name": "stdout",
     "output_type": "stream",
     "text": [
      "36075130 54253190\n"
     ]
    }
   ],
   "source": [
    "menores_36=below_36['fac_ele'].sum()\n",
    "mayores_36=from35_andup['fac_ele'].sum()\n",
    "print(menores_36,mayores_36)"
   ]
  },
  {
   "cell_type": "code",
   "execution_count": 40,
   "id": "c2d5aad5",
   "metadata": {},
   "outputs": [
    {
     "name": "stdout",
     "output_type": "stream",
     "text": [
      "<class 'pandas.core.frame.DataFrame'>\n",
      "Int64Index: 2719 entries, 1 to 13545\n",
      "Columns: 467 entries, folio to indicador_liquidez\n",
      "dtypes: category(54), float32(15), float64(268), int16(5), int32(1), int8(124)\n",
      "memory usage: 6.2 MB\n"
     ]
    }
   ],
   "source": [
    "ENIF_2021[edad_35 & cuenta].info()"
   ]
  },
  {
   "cell_type": "markdown",
   "id": "8c5157f5",
   "metadata": {},
   "source": [
    "## NSE AMAI 2022"
   ]
  },
  {
   "cell_type": "markdown",
   "id": "46017321",
   "metadata": {},
   "source": [
    "https://www.youtube.com/watch?v=lnks1IcoHUo&t=108s"
   ]
  },
  {
   "cell_type": "markdown",
   "id": "ccced11c",
   "metadata": {},
   "source": [
    "## Plots"
   ]
  },
  {
   "cell_type": "code",
   "execution_count": null,
   "id": "1ff15bd5",
   "metadata": {},
   "outputs": [],
   "source": []
  }
 ],
 "metadata": {
  "kernelspec": {
   "display_name": "Python 3 (ipykernel)",
   "language": "python",
   "name": "python3"
  },
  "language_info": {
   "codemirror_mode": {
    "name": "ipython",
    "version": 3
   },
   "file_extension": ".py",
   "mimetype": "text/x-python",
   "name": "python",
   "nbconvert_exporter": "python",
   "pygments_lexer": "ipython3",
   "version": "3.10.4"
  }
 },
 "nbformat": 4,
 "nbformat_minor": 5
}
