{
 "cells": [
  {
   "cell_type": "markdown",
   "id": "b91a7eb1",
   "metadata": {},
   "source": [
    "## Explotaratory Data Analysis: ENIF 2021 Profiling"
   ]
  },
  {
   "cell_type": "code",
   "execution_count": 1,
   "id": "4ec0aee8",
   "metadata": {},
   "outputs": [],
   "source": [
    "import pandas as pd\n",
    "import numpy as np\n",
    "import matplotlib.pyplot as plt\n",
    "from pandas_profiling import ProfileReport\n",
    "import pandas_profiling as pp\n",
    "from sklearn.utils import resample\n",
    "import os"
   ]
  },
  {
   "cell_type": "code",
   "execution_count": 2,
   "id": "96f0bad7",
   "metadata": {},
   "outputs": [],
   "source": [
    "ENIF_2021=pd.read_stata('Data/ENIF2021_final.dta')"
   ]
  },
  {
   "cell_type": "code",
   "execution_count": 3,
   "id": "6eba0e91",
   "metadata": {},
   "outputs": [
    {
     "data": {
      "text/plain": [
       "(13554, 467)"
      ]
     },
     "execution_count": 3,
     "metadata": {},
     "output_type": "execute_result"
    }
   ],
   "source": [
    "ENIF_2021.shape"
   ]
  },
  {
   "cell_type": "code",
   "execution_count": 4,
   "id": "c5ca1f08",
   "metadata": {},
   "outputs": [
    {
     "data": {
      "text/plain": [
       "'/home/juanpalms/Desktop/ozmo'"
      ]
     },
     "execution_count": 4,
     "metadata": {},
     "output_type": "execute_result"
    }
   ],
   "source": [
    "os.getcwd()"
   ]
  },
  {
   "cell_type": "code",
   "execution_count": 9,
   "id": "88684752",
   "metadata": {},
   "outputs": [
    {
     "data": {
      "text/plain": [
       "'/home/juanpalms/Desktop/ozmo'"
      ]
     },
     "execution_count": 9,
     "metadata": {},
     "output_type": "execute_result"
    }
   ],
   "source": [
    "import os\n",
    "\n",
    "os.getcwd()"
   ]
  },
  {
   "cell_type": "markdown",
   "id": "023270c5",
   "metadata": {},
   "source": [
    "### Limpieza de datos"
   ]
  },
  {
   "cell_type": "code",
   "execution_count": 5,
   "id": "d2609c37",
   "metadata": {},
   "outputs": [
    {
     "name": "stdout",
     "output_type": "stream",
     "text": [
      "['folio', 'viv_sel', 'hogar', 'n_ren', 'p3_1_1', 'p3_1_2', 'p3_2', 'p3_3', 'p3_4', 'p3_5', 'p3_6', 'p3_7', 'p3_8a', 'p3_8b', 'p3_9', 'p3_10', 'p3_11', 'p4_1', 'p4_2_1', 'p4_2_2', 'p4_2_3', 'p4_2_4', 'p4_2_5', 'p4_3', 'p4_4_1', 'p4_4_2', 'p4_4_3', 'p4_4_4', 'p4_4_5', 'p4_4_6', 'p4_4_7', 'p4_5', 'p4_6_1', 'p4_6_2', 'p4_6_3', 'p4_6_4', 'p4_6_5', 'p4_6_6', 'p4_7_1', 'p4_7_2', 'p4_7_3', 'p4_8_1', 'p4_8_2', 'p4_8_3', 'p4_8_4', 'p4_8_5', 'p4_8_6', 'p4_9_1', 'p4_9_2', 'p4_9_3', 'p4_9_4', 'p4_10', 'p5_1_1', 'p5_1_2', 'p5_1_3', 'p5_1_4', 'p5_1_5', 'p5_1_6', 'p5_2_1', 'p5_2_2', 'p5_2_3', 'p5_2_4', 'p5_2_5', 'p5_2_6', 'p5_2_7', 'p5_2_8', 'p5_2_9', 'p5_3', 'p5_4_1', 'p5_5_1', 'p5_6_1', 'p5_7_1', 'p5_4_2', 'p5_5_2', 'p5_6_2', 'p5_7_2', 'p5_4_3', 'p5_5_3', 'p5_6_3', 'p5_7_3', 'p5_4_4', 'p5_5_4', 'p5_6_4', 'p5_7_4', 'p5_4_5', 'p5_5_5', 'p5_6_5', 'p5_7_5', 'p5_4_6', 'p5_5_6', 'p5_7_6', 'p5_4_7', 'p5_5_7', 'p5_7_7', 'p5_4_8', 'p5_5_8', 'p5_6_8', 'p5_7_8', 'p5_4_9', 'p5_5_9', 'p5_6_9', 'p5_7_9', 'p5_8_01', 'p5_8_02', 'p5_8_03', 'p5_8_04', 'p5_8_05', 'p5_8_06', 'p5_8_07', 'p5_8_08', 'p5_8_09', 'p5_8_10', 'filtro_1_secc5', 'p5_9_01', 'p5_9_02', 'p5_9_03', 'p5_9_04', 'p5_9_05', 'p5_9_06', 'p5_9_07', 'p5_9_08', 'p5_9_09', 'p5_10', 'filtro_2_secc5', 'p5_11', 'filtro_3_secc5', 'p5_12', 'p5_13', 'p5_14', 'filtro_4_secc5', 'p5_15', 'p5_16_1', 'p5_16_2', 'p5_16_3', 'p5_16_4', 'p5_16_5', 'p5_17', 'p5_18_01', 'p5_18_02', 'p5_18_03', 'p5_18_04', 'p5_18_05', 'p5_18_06', 'p5_18_07', 'p5_18_08', 'p5_18_09', 'p5_18_10', 'p5_18_11', 'p5_18_12', 'p5_18_99', 'p5_19_1', 'p5_19_2', 'p5_19_3', 'p5_19_4', 'p5_19_5', 'p5_19_6', 'p5_19_7', 'p5_19_9', 'p5_20', 'p5_21', 'p5_22', 'p5_23', 'p5_24', 'p6_1_1', 'p6_1_2', 'p6_1_3', 'p6_1_4', 'p6_1_5', 'p6_2_1', 'p6_3_1', 'p6_4_1', 'p6_4a_1', 'p6_2_2', 'p6_3_2', 'p6_4_2', 'p6_4a_2', 'p6_2_3', 'p6_3_3', 'p6_4_3', 'p6_4a_3', 'p6_2_4', 'p6_3_4', 'p6_4_4', 'p6_4a_4', 'p6_2_5', 'p6_3_5', 'p6_4_5', 'p6_4a_5', 'p6_2_6', 'p6_3_6', 'p6_4_6', 'p6_4a_6', 'p6_2_7', 'p6_3_7', 'p6_4_7', 'p6_4a_7', 'p6_2_8', 'p6_3_8', 'p6_4_8', 'p6_4a_8', 'p6_2_9', 'p6_3_9', 'p6_4_9', 'p6_4a_9', 'p6_5', 'p6_6', 'p6_7', 'p6_8_01', 'p6_8_02', 'p6_8_03', 'p6_8_04', 'p6_8_05', 'p6_8_06', 'p6_8_07', 'p6_8_08', 'p6_8_09', 'p6_8_10', 'p6_8_11', 'p6_8_12', 'p6_8_13', 'p6_8_99', 'filtro_1_secc6', 'p6_9', 'p6_10', 'p6_11', 'p6_12_1', 'p6_12_2', 'p6_12_3', 'p6_12_4', 'p6_12_5', 'p6_13', 'p6_14', 'p6_15', 'p6_16', 'p6_17', 'p6_18_1', 'p6_18_2', 'p6_18_3', 'p6_18_4', 'p6_18_5', 'p6_18_6', 'p6_18_9', 'p7_1_1', 'p7_1_2', 'p7_2', 'p7_3', 'p7_4', 'p7_5', 'p7_6', 'p7_7_1', 'p7_8_1_1', 'p7_8_1_2', 'p7_8_1_3', 'p7_7_2', 'p7_8_2_1', 'p7_8_2_2', 'p7_8_2_3', 'p7_7_3', 'p7_8_3_1', 'p7_8_3_2', 'p7_8_3_3', 'p7_7_4', 'p7_8_4_1', 'p7_8_4_2', 'p7_8_4_3', 'p8_1', 'p8_2', 'p8_3', 'p8_4', 'p8_5', 'p8_6_1', 'p8_7_1', 'p8_6_2', 'p8_7_2', 'p8_8_2', 'p8_9_2', 'p8_10_2', 'p8_6_3', 'p8_7_3', 'p8_8_3', 'p8_9_3', 'p8_10_3', 'p8_6_4', 'p8_7_4', 'p8_8_4', 'p8_9_4', 'p8_10_4', 'p8_6_5', 'p8_7_5', 'p8_8_5', 'p8_9_5', 'p8_10_5', 'p8_6_6', 'p8_6_7', 'p8_6_8', 'p8_7_8', 'p8_8_8', 'p8_9_8', 'p8_10_8', 'filtro_1_secc8', 'p8_11', 'p8_12_1', 'p8_12_2', 'p8_12_3', 'p8_12_4', 'p8_12_5', 'p9_1', 'p9_1a', 'p9_2', 'p9_3', 'p9_4', 'p9_5', 'p9_6', 'p9_7', 'p9_8_1', 'p9_8_2', 'p9_8_3', 'p9_8_4', 'p9_8_5', 'p9_8_6', 'p10_1', 'p10_2', 'p10_3_1', 'p10_3_2', 'p10_4', 'p10_5', 'p10_6_1', 'p10_6_2', 'p10_7', 'p10_8', 'p10_9_1', 'p10_9_2', 'p11_1_1', 'p11_1_2', 'p11_1_3', 'p11_1_4', 'p11_1_5', 'p11_2_1', 'p11_2_2', 'p11_2_3', 'p11_2_4', 'p11_3_1', 'p11_3_2', 'p11_3_3', 'p11_3_4', 'p11_3_9', 'p11_4', 'p12_1', 'p12_2_1', 'p12_2_2', 'p12_2_3', 'p12_3_1', 'p12_3_2', 'p12_3_3', 'p12_3_4', 'p12_3_5', 'p12_3_6', 'p12_3_7', 'p12_3_8', 'p12_4', 'p13_1', 'p13_2', 'p13_3', 'p13_4', 'p14_1', 'p14_2_1', 'p14_3_1', 'p14_4_1', 'p14_2_2', 'p14_3_2', 'p14_4_2', 'p14_2_3', 'p14_3_3', 'p14_4_3', 'p14_2_4', 'tloc', 'region', 'sexo', 'edad', 'est_dis', 'upm_dis', 'fac_ele', 'p2_3', 'niv', 'gra', 'fac_hog', 'p2_8', 'p0_1', 'p0_2', 'p0_3', 'p0_4_1', 'p0_4_1a', 'p0_4_2', 'p0_4_2a', 'p1_1', 'p1_2', 'p1_3', 'fac_viv', 'cond_laboral', 'formal', 'ingresos_mensuales', 'niv_ingresos', 'indigena', 'edad_niveles', 'escolaridad', 'cuenta', 'cuenta_singob', 'cuenta_gob', 'cuenta_sologob', 'ahorro_informal', 'ahorro_ambos', 'credito_informal', 'credito_formal', 'credito', 'cuenta_dig', 'cuenta_dig_porcentajecuenta', 'tarjeta_debito', 'tarjeta_credito', 'credito_dig', 'credito_dig_porcentajecredito', 'acceso_dig', 'comparacion_credito', 'comparacion_banxico', 'cashlees_payments_menos500', 'cashlees_payments_mas500', 'codi_conoce', 'codi_uso', 'codi_uso_pob', 'remesas', 'remesas_efectivo', 'comercios', 'pago_pequecomercio', 'super_farmacia', 'pago_superfarmacia', 'servicios', 'pago_servicios', 'transporte', 'pago_transporte', 'sucursal_uso', 'cajeros_uso', 'corresponsales_uso', 'uso_tddebito', 'uso_tdcredito', 'seguro_tenencia', 'afore_tenencia', 'tenencia_celular', 'cuenta_celular', 'presupuesto', 'deudas', 'resiliencia', 'producto_formal', 'uso_tdd_veces', 'minutos_sucursal', 'distancia_sucursal', 'minutos_cajero', 'distancia_cajero', 'minutos_corresponsal', 'distancia_corresponsal', 'puntajea', 'puntajeb', 'puntajec', 'puntajed', 'puntajee', 'indicador_bf', 'conocimientos_financieros', 'indicador_planeacion', 'indicador_liquidez']\n"
     ]
    }
   ],
   "source": [
    "columns_headers=list(ENIF_2021.columns.values)\n",
    "print(columns_headers)"
   ]
  },
  {
   "cell_type": "code",
   "execution_count": 6,
   "id": "cd0a18c5",
   "metadata": {},
   "outputs": [],
   "source": [
    "def SUMA_AMAI(x,y,z,w,k,u):\n",
    "    suma=0\n",
    "    #Numero de banos\n",
    "    if (x==1):\n",
    "        suma+=24\n",
    "    elif (x>1):\n",
    "        suma+=47\n",
    "    #numero de carros\n",
    "    if (y==1):\n",
    "        suma+=22\n",
    "    elif (y>1):\n",
    "        suma+=43\n",
    "    #Internet fijo\n",
    "    if (z==1):\n",
    "        suma+=32\n",
    "    #Numero de cuartos\n",
    "    if (w==1):\n",
    "        suma+=15\n",
    "    elif(w==2):\n",
    "        suma+=31\n",
    "    elif(w==3):\n",
    "        suma+=46\n",
    "    elif(w>3):\n",
    "        suma+=61\n",
    "    #numero de trabajadores\n",
    "    if(k==1):\n",
    "        suma+=8\n",
    "    elif(k==2):\n",
    "        suma+=16\n",
    "    elif(k==3):\n",
    "        suma+=24\n",
    "    elif(k>3):\n",
    "        suma+=32\n",
    "    #Nivel de escolaridad\n",
    "    if(u==1):\n",
    "        suma+=6\n",
    "    elif(u==2):\n",
    "        suma+=11\n",
    "    elif(u==3):\n",
    "        suma+=18\n",
    "    elif(u==4):\n",
    "        suma+=23\n",
    "    elif(u==5):\n",
    "        suma+=27\n",
    "    elif(u==6):\n",
    "        suma+=27\n",
    "    elif(u==7):\n",
    "        suma+=27\n",
    "    elif(u==8):\n",
    "        suma+=59\n",
    "    elif(u==9):\n",
    "        suma+=85\n",
    "    else:\n",
    "        suma+=0\n",
    "    return suma"
   ]
  },
  {
   "cell_type": "code",
   "execution_count": 7,
   "id": "d774f117",
   "metadata": {},
   "outputs": [],
   "source": [
    "ENIF_2021['Suma_AMAI'] = ENIF_2021.apply(lambda x: SUMA_AMAI(x['p0_3'],x['p0_4_1a'],x['p0_4_2a'],x['p2_8'],\n",
    "                                                            x['p0_1'],x['niv']), axis=1)"
   ]
  },
  {
   "cell_type": "code",
   "execution_count": 8,
   "id": "1e206a18",
   "metadata": {},
   "outputs": [
    {
     "data": {
      "text/plain": [
       "count    13554.000000\n",
       "mean       109.640696\n",
       "std         48.025022\n",
       "min          8.000000\n",
       "25%         73.000000\n",
       "50%        109.000000\n",
       "75%        141.000000\n",
       "max        285.000000\n",
       "Name: Suma_AMAI, dtype: float64"
      ]
     },
     "execution_count": 8,
     "metadata": {},
     "output_type": "execute_result"
    }
   ],
   "source": [
    "ENIF_2021['Suma_AMAI'].describe()"
   ]
  },
  {
   "cell_type": "code",
   "execution_count": 9,
   "id": "c8b874d1",
   "metadata": {},
   "outputs": [],
   "source": [
    "def NSE_amai(x):\n",
    "    if x<=47:\n",
    "        return \"E\"\n",
    "    elif (x>47) & (x<=94):\n",
    "        return \"D\"\n",
    "    elif (x>94) & (x<=115):\n",
    "        return \"D+\"\n",
    "    elif (x>115) & (x<=140):\n",
    "        return \"C-\"\n",
    "    elif (x>140) & (x<=167):\n",
    "        return \"C\"\n",
    "    elif (x>167) & (x<=201):\n",
    "        return \"C+\"\n",
    "    else:\n",
    "        return \"A/B\""
   ]
  },
  {
   "cell_type": "code",
   "execution_count": 1,
   "id": "d232e853",
   "metadata": {},
   "outputs": [],
   "source": [
    "Dict_NSE={\"E\":1,\"D\":2,\"D+\":3,\"C-\":4,\"C\":5,\"C+\":6,\"A/B\":7}"
   ]
  },
  {
   "cell_type": "code",
   "execution_count": 5,
   "id": "c2a99469",
   "metadata": {},
   "outputs": [
    {
     "data": {
      "text/plain": [
       "1"
      ]
     },
     "execution_count": 5,
     "metadata": {},
     "output_type": "execute_result"
    }
   ],
   "source": [
    "Dict_NSE[\"E\"]"
   ]
  },
  {
   "cell_type": "code",
   "execution_count": 10,
   "id": "4d3f9919",
   "metadata": {},
   "outputs": [],
   "source": [
    "ENIF_2021['NSE_AMAI'] = ENIF_2021.apply(lambda x: NSE_amai(x['Suma_AMAI']), axis=1)"
   ]
  },
  {
   "cell_type": "code",
   "execution_count": 11,
   "id": "4220874b",
   "metadata": {},
   "outputs": [
    {
     "name": "stdout",
     "output_type": "stream",
     "text": [
      "['D' 'C-' 'C+' 'C' 'D+' 'A/B' 'E']\n"
     ]
    }
   ],
   "source": [
    "print (ENIF_2021['NSE_AMAI'].unique())"
   ]
  },
  {
   "cell_type": "code",
   "execution_count": 7,
   "id": "30fc21c0",
   "metadata": {},
   "outputs": [
    {
     "ename": "NameError",
     "evalue": "name 'ENIF_2021' is not defined",
     "output_type": "error",
     "traceback": [
      "\u001b[0;31m---------------------------------------------------------------------------\u001b[0m",
      "\u001b[0;31mNameError\u001b[0m                                 Traceback (most recent call last)",
      "Input \u001b[0;32mIn [7]\u001b[0m, in \u001b[0;36m<cell line: 1>\u001b[0;34m()\u001b[0m\n\u001b[0;32m----> 1\u001b[0m \u001b[43mENIF_2021\u001b[49m[\u001b[38;5;124m'\u001b[39m\u001b[38;5;124mingresos_mensuales\u001b[39m\u001b[38;5;124m'\u001b[39m]\u001b[38;5;241m.\u001b[39mvalue_counts()\u001b[38;5;241m.\u001b[39msum()\n",
      "\u001b[0;31mNameError\u001b[0m: name 'ENIF_2021' is not defined"
     ]
    }
   ],
   "source": [
    "ENIF_2021['ingresos_mensuales'].value_counts().sum()"
   ]
  },
  {
   "cell_type": "code",
   "execution_count": 13,
   "id": "1a3e536b",
   "metadata": {},
   "outputs": [
    {
     "name": "stdout",
     "output_type": "stream",
     "text": [
      "Index(['Sin ingresos', 'Menor o igual a 5k', 'Entre 5k y 13k', 'Más de 13k'], dtype='object')\n"
     ]
    }
   ],
   "source": [
    "print (ENIF_2021['niv_ingresos'].cat.categories)"
   ]
  },
  {
   "cell_type": "code",
   "execution_count": 14,
   "id": "dbd804bf",
   "metadata": {},
   "outputs": [
    {
     "data": {
      "text/plain": [
       "Sin ingresos          5311\n",
       "Entre 5k y 13k        3735\n",
       "Menor o igual a 5k    3557\n",
       "Más de 13k             951\n",
       "Name: niv_ingresos, dtype: int64"
      ]
     },
     "execution_count": 14,
     "metadata": {},
     "output_type": "execute_result"
    }
   ],
   "source": [
    "ENIF_2021['niv_ingresos'].value_counts()"
   ]
  },
  {
   "cell_type": "code",
   "execution_count": 15,
   "id": "56e4bc2e",
   "metadata": {},
   "outputs": [],
   "source": [
    "ENIF_2021['sexo']=ENIF_2021['sexo'].replace([2,1],['Mujeres','Hombres'])"
   ]
  },
  {
   "cell_type": "code",
   "execution_count": 16,
   "id": "5b6517c9",
   "metadata": {},
   "outputs": [
    {
     "name": "stdout",
     "output_type": "stream",
     "text": [
      "['Mujeres' 'Hombres']\n"
     ]
    }
   ],
   "source": [
    "print (ENIF_2021['sexo'].unique()) #0==mujeres"
   ]
  },
  {
   "cell_type": "code",
   "execution_count": 17,
   "id": "27862248",
   "metadata": {},
   "outputs": [
    {
     "data": {
      "text/plain": [
       "Mujeres    7345\n",
       "Hombres    6209\n",
       "Name: sexo, dtype: int64"
      ]
     },
     "execution_count": 17,
     "metadata": {},
     "output_type": "execute_result"
    }
   ],
   "source": [
    "ENIF_2021['sexo'].value_counts()"
   ]
  },
  {
   "cell_type": "code",
   "execution_count": 18,
   "id": "d33cd826",
   "metadata": {},
   "outputs": [
    {
     "name": "stdout",
     "output_type": "stream",
     "text": [
      "[1 2 3 4]\n"
     ]
    }
   ],
   "source": [
    "print (ENIF_2021['tloc'].unique())"
   ]
  },
  {
   "cell_type": "code",
   "execution_count": 19,
   "id": "ee033f77",
   "metadata": {},
   "outputs": [],
   "source": [
    "def localidades(x):\n",
    "    if x==1:\n",
    "        return \"100k> habitantes\"\n",
    "    elif x==2:\n",
    "        return \"15k a 100k habitantes\"\n",
    "    elif x==3:\n",
    "        return \"2.5k a 15k habitantes\"\n",
    "    else:\n",
    "        return \"2.5< habitantes\"\n"
   ]
  },
  {
   "cell_type": "code",
   "execution_count": 20,
   "id": "729a6854",
   "metadata": {},
   "outputs": [],
   "source": [
    "ENIF_2021['Localidad'] = ENIF_2021.apply(lambda x: localidades(x['tloc']), axis=1)"
   ]
  },
  {
   "cell_type": "code",
   "execution_count": 21,
   "id": "b6251d59",
   "metadata": {},
   "outputs": [
    {
     "data": {
      "text/plain": [
       "100k> habitantes         6584\n",
       "2.5< habitantes          3148\n",
       "15k a 100k habitantes    1981\n",
       "2.5k a 15k habitantes    1841\n",
       "Name: Localidad, dtype: int64"
      ]
     },
     "execution_count": 21,
     "metadata": {},
     "output_type": "execute_result"
    }
   ],
   "source": [
    "ENIF_2021['Localidad'].value_counts()"
   ]
  },
  {
   "cell_type": "code",
   "execution_count": 22,
   "id": "86d637a2",
   "metadata": {},
   "outputs": [],
   "source": [
    "#Division por edades\n",
    "grupos_edad=[\n",
    "    (ENIF_2021['edad']<35),\n",
    "    (ENIF_2021['edad']>=35)]\n",
    "\n",
    "labels_edad=['Edad objetivo(Menos de 34 años)','Más de 34 años']\n",
    "ENIF_2021['Grupos_edad']=np.select(grupos_edad,labels_edad)\n",
    "\n",
    "#ENIF_2021['Grupos_edad'].isna().sum()\n",
    "#No missing data in Grupos_edad"
   ]
  },
  {
   "cell_type": "code",
   "execution_count": 23,
   "id": "2dfa2a46",
   "metadata": {},
   "outputs": [
    {
     "data": {
      "text/plain": [
       "Más de 34 años                     8827\n",
       "Edad objetivo(Menos de 34 años)    4727\n",
       "Name: Grupos_edad, dtype: int64"
      ]
     },
     "execution_count": 23,
     "metadata": {},
     "output_type": "execute_result"
    }
   ],
   "source": [
    "ENIF_2021['Grupos_edad'].value_counts()"
   ]
  },
  {
   "cell_type": "code",
   "execution_count": 24,
   "id": "e73cca4f",
   "metadata": {},
   "outputs": [
    {
     "name": "stdout",
     "output_type": "stream",
     "text": [
      "['No trabaja', 'Formal', 'Sin clasificar', 'Informal']\n",
      "Categories (4, object): ['Sin clasificar' < 'No trabaja' < 'Formal' < 'Informal']\n"
     ]
    }
   ],
   "source": [
    "print (ENIF_2021['formal'].unique())"
   ]
  },
  {
   "cell_type": "code",
   "execution_count": 25,
   "id": "420e157e",
   "metadata": {},
   "outputs": [
    {
     "name": "stdout",
     "output_type": "stream",
     "text": [
      "['No trabaja', 'Trabaja']\n",
      "Categories (2, object): ['No trabaja' < 'Trabaja']\n"
     ]
    }
   ],
   "source": [
    "print (ENIF_2021['cond_laboral'].unique())"
   ]
  },
  {
   "cell_type": "code",
   "execution_count": 26,
   "id": "f171112c",
   "metadata": {},
   "outputs": [
    {
     "data": {
      "text/plain": [
       "count    13554.000000\n",
       "mean         2.663273\n",
       "std          2.369523\n",
       "min          1.000000\n",
       "25%          1.000000\n",
       "50%          1.000000\n",
       "75%          5.000000\n",
       "max          8.000000\n",
       "Name: p3_5, dtype: float64"
      ]
     },
     "execution_count": 26,
     "metadata": {},
     "output_type": "execute_result"
    }
   ],
   "source": [
    "ENIF_2021['p3_5'].describe()"
   ]
  },
  {
   "cell_type": "code",
   "execution_count": 27,
   "id": "266fbaad",
   "metadata": {},
   "outputs": [],
   "source": [
    "def actividad_eco(x,y):\n",
    "    if x==1:\n",
    "        return \"Trabajador@\"\n",
    "    elif x==2:\n",
    "        return \"Trabajador@\"\n",
    "    elif x==4:\n",
    "        return \"Estudiante\"\n",
    "    elif x==5: \n",
    "        return \"Trabajador@ del hogar\"\n",
    "    elif x==6: \n",
    "        return \"Jubilad@\"\n",
    "    elif x==7:\n",
    "        return \"Incapacitad@\"\n",
    "    elif (y==1):\n",
    "        return \"Trabajo negocio\"\n",
    "    elif (y==2):\n",
    "        return \"Vendedor@ o productor@\"\n",
    "    elif  (y==3):\n",
    "        return \"Trabajo en el campo\"\n",
    "    elif (y==4):\n",
    "        return \"Trabajo domestico remunerado\"\n",
    "    elif (y==5):\n",
    "        return \"Aprendiz\"\n",
    "\n",
    "    else:\n",
    "        return \"Desemplead@\" "
   ]
  },
  {
   "cell_type": "code",
   "execution_count": 28,
   "id": "d6c767b4",
   "metadata": {},
   "outputs": [],
   "source": [
    "ENIF_2021['Actividad_economica'] = ENIF_2021.apply(lambda x: actividad_eco(x['p3_5'],x['p3_6']), axis=1)"
   ]
  },
  {
   "cell_type": "code",
   "execution_count": 29,
   "id": "bb89de67",
   "metadata": {},
   "outputs": [],
   "source": [
    "def rol(x,y):\n",
    "    if (x==\"Trabajador@\")& (y==1):\n",
    "        return \"Negocio familiar\"\n",
    "    elif (x==\"Trabajador@\") & (y==2):\n",
    "        return \"Emplead@/Obrer@\"\n",
    "    elif (x==\"Trabajador@\") & (y==3):\n",
    "        return \"Jornaler@/Peon\"\n",
    "    elif (x==\"Trabajador@\") & (y==4):\n",
    "        return \"Trabaja independiente\"\n",
    "    elif (x==\"Trabajador@\") & (y==5):\n",
    "        return \"Patron/Empleador@\"\n",
    "    elif (x==\"Estudiante\")& (y==1):\n",
    "        return \"Negocio familiar\"\n",
    "    elif (x==\"Estudiante\") & (y==2):\n",
    "        return \"Emplead@/Obrer@\"\n",
    "    elif (x==\"Estudiante\") & (y==3):\n",
    "        return \"Jornaler@/Peon\"\n",
    "    elif (x==\"Estudiante\") & (y==4):\n",
    "        return \"Trabaja independiente\"\n",
    "    elif (x==\"Trabajador@ del hogar\") & (y==5):\n",
    "        return \"Patron/Empleador@\"\n",
    "    elif (x==\"Trabajador@ del hogar\")& (y==1):\n",
    "        return \"Negocio familiar\"\n",
    "    elif (x==\"Trabajador@ del hogar\") & (y==2):\n",
    "        return \"Emplead@/Obrer@\"\n",
    "    elif (x==\"Trabajador@ del hogar\") & (y==3):\n",
    "        return \"Jornaler@/Peon\"\n",
    "    elif (x==\"Trabajador@ del hogar\") & (y==4):\n",
    "        return \"Trabaja independiente\"\n",
    "    elif (x==\"Trabajador@ del hogar\") & (y==5):\n",
    "        return \"Patron/Empleador@\"\n",
    "    elif (x==\"Jubilad@\")& (y==1):\n",
    "        return \"Negocio familiar\"\n",
    "    elif (x==\"Jubilad@\") & (y==2):\n",
    "        return \"Emplead@/Obrer@\"\n",
    "    elif (x==\"Jubilad@\") & (y==3):\n",
    "        return \"Jornaler@/Peon\"\n",
    "    elif (x==\"Jubilad@\") & (y==4):\n",
    "        return \"Trabaja independiente\"\n",
    "    elif (x==\"Jubilad@\") & (y==5):\n",
    "        return \"Patron/Empleador@\"\n",
    "    elif (x==\"Incapacitad@\")& (y==1):\n",
    "        return \"Negocio familiar\"\n",
    "    elif (x==\"Incapacitad@\") & (y==2):\n",
    "        return \"Emplead@/Obrer@\"\n",
    "    elif (x==\"Incapacitad@\") & (y==3):\n",
    "        return \"Jornaler@/Peon\"\n",
    "    elif (x==\"Incapacitad@\") & (y==4):\n",
    "        return \"Trabaja independiente\"\n",
    "    elif (x==\"Incapacitad@\") & (y==5):\n",
    "        return \"Patron/Empleador@\"\n",
    "    elif (x==\"Aprendiz\")& (y==1):\n",
    "        return \"Negocio familiar\"\n",
    "    elif (x==\"Aprendiz\") & (y==2):\n",
    "        return \"Emplead@/Obrer@\"\n",
    "    elif (x==\"Aprendiz\") & (y==3):\n",
    "        return \"Jornaler@/Peon\"\n",
    "    elif (x==\"Aprendiz\") & (y==4):\n",
    "        return \"Trabaja independiente\"\n",
    "    elif (x==\"Aprendiz\") & (y==5):\n",
    "        return \"Patron/Empleador@\"\n",
    "    else:\n",
    "        return x"
   ]
  },
  {
   "cell_type": "code",
   "execution_count": 30,
   "id": "9816c94f",
   "metadata": {},
   "outputs": [],
   "source": [
    "ENIF_2021['ROL_eco'] = ENIF_2021.apply(lambda x: rol(x['Actividad_economica'],x['p3_7']), axis=1)"
   ]
  },
  {
   "cell_type": "code",
   "execution_count": 31,
   "id": "a333dda4",
   "metadata": {},
   "outputs": [
    {
     "data": {
      "text/plain": [
       "Desemplead@                      911\n",
       "Emplead@/Obrer@                 5479\n",
       "Estudiante                       294\n",
       "Incapacitad@                     156\n",
       "Jornaler@/Peon                   570\n",
       "Jubilad@                         603\n",
       "Negocio familiar                 610\n",
       "Patron/Empleador@                167\n",
       "Trabaja independiente           2530\n",
       "Trabajador@ del hogar           2026\n",
       "Trabajo domestico remunerado      33\n",
       "Trabajo en el campo               52\n",
       "Trabajo negocio                   59\n",
       "Vendedor@ o productor@            64\n",
       "Name: ROL_eco, dtype: int64"
      ]
     },
     "execution_count": 31,
     "metadata": {},
     "output_type": "execute_result"
    }
   ],
   "source": [
    "ENIF_2021['ROL_eco'].value_counts().sort_index()"
   ]
  },
  {
   "cell_type": "code",
   "execution_count": 32,
   "id": "32c66ab7",
   "metadata": {},
   "outputs": [],
   "source": [
    "edad_35=(ENIF_2021[\"edad\"] <= 35)\n",
    "edad_35_mas=(ENIF_2021[\"edad\"] >35)\n",
    "cuenta=(ENIF_2021[\"cuenta\"]==\"Con cuenta\")"
   ]
  },
  {
   "cell_type": "code",
   "execution_count": 33,
   "id": "887de422",
   "metadata": {},
   "outputs": [],
   "source": [
    "below_36 = ENIF_2021[edad_35]\n",
    "from35_andup= ENIF_2021[edad_35_mas]"
   ]
  },
  {
   "cell_type": "code",
   "execution_count": 34,
   "id": "82477cd7",
   "metadata": {},
   "outputs": [
    {
     "name": "stdout",
     "output_type": "stream",
     "text": [
      "36075130 54253190\n"
     ]
    }
   ],
   "source": [
    "menores_36=below_36['fac_ele'].sum()\n",
    "mayores_36=from35_andup['fac_ele'].sum()\n",
    "print(menores_36,mayores_36)"
   ]
  },
  {
   "cell_type": "code",
   "execution_count": 35,
   "id": "c2d5aad5",
   "metadata": {},
   "outputs": [
    {
     "name": "stdout",
     "output_type": "stream",
     "text": [
      "<class 'pandas.core.frame.DataFrame'>\n",
      "Int64Index: 2719 entries, 1 to 13545\n",
      "Columns: 473 entries, folio to ROL_eco\n",
      "dtypes: category(54), float32(15), float64(268), int16(5), int32(1), int64(1), int8(123), object(6)\n",
      "memory usage: 6.4+ MB\n"
     ]
    }
   ],
   "source": [
    "ENIF_2021[edad_35 & cuenta].info()"
   ]
  },
  {
   "cell_type": "markdown",
   "id": "bd9cb4ac",
   "metadata": {},
   "source": [
    "### ANALISIS PREELIMINAR DE VARIABLES"
   ]
  },
  {
   "cell_type": "markdown",
   "id": "0439ddcc",
   "metadata": {},
   "source": [
    "#### Variables sociodemograficas grupo de interes\n",
    "\n",
    "Analisis exploratorio de las variables sociodemograficas del grupo objetivo:\n",
    "Personas de 18 a 34 anios"
   ]
  },
  {
   "cell_type": "code",
   "execution_count": 36,
   "id": "813951c6",
   "metadata": {},
   "outputs": [],
   "source": [
    "Dems=['NSE_AMAI','Grupos_edad','edad','niv_ingresos','Localidad','sexo','formal','ROL_eco']"
   ]
  },
  {
   "cell_type": "code",
   "execution_count": 37,
   "id": "e612d74d",
   "metadata": {},
   "outputs": [],
   "source": [
    "ENIF_Demos=ENIF_2021.copy()\n",
    "ENIF_Demos=ENIF_Demos[Dems]"
   ]
  },
  {
   "cell_type": "code",
   "execution_count": 38,
   "id": "0a7f7f7a",
   "metadata": {},
   "outputs": [
    {
     "data": {
      "text/html": [
       "<div>\n",
       "<style scoped>\n",
       "    .dataframe tbody tr th:only-of-type {\n",
       "        vertical-align: middle;\n",
       "    }\n",
       "\n",
       "    .dataframe tbody tr th {\n",
       "        vertical-align: top;\n",
       "    }\n",
       "\n",
       "    .dataframe thead th {\n",
       "        text-align: right;\n",
       "    }\n",
       "</style>\n",
       "<table border=\"1\" class=\"dataframe\">\n",
       "  <thead>\n",
       "    <tr style=\"text-align: right;\">\n",
       "      <th></th>\n",
       "      <th>NSE_AMAI</th>\n",
       "      <th>Grupos_edad</th>\n",
       "      <th>edad</th>\n",
       "      <th>niv_ingresos</th>\n",
       "      <th>Localidad</th>\n",
       "      <th>sexo</th>\n",
       "      <th>formal</th>\n",
       "      <th>ROL_eco</th>\n",
       "    </tr>\n",
       "  </thead>\n",
       "  <tbody>\n",
       "    <tr>\n",
       "      <th>0</th>\n",
       "      <td>D</td>\n",
       "      <td>Más de 34 años</td>\n",
       "      <td>83</td>\n",
       "      <td>Sin ingresos</td>\n",
       "      <td>100k&gt; habitantes</td>\n",
       "      <td>Mujeres</td>\n",
       "      <td>No trabaja</td>\n",
       "      <td>Desemplead@</td>\n",
       "    </tr>\n",
       "    <tr>\n",
       "      <th>1</th>\n",
       "      <td>C-</td>\n",
       "      <td>Edad objetivo(Menos de 34 años)</td>\n",
       "      <td>20</td>\n",
       "      <td>Menor o igual a 5k</td>\n",
       "      <td>100k&gt; habitantes</td>\n",
       "      <td>Mujeres</td>\n",
       "      <td>Formal</td>\n",
       "      <td>Emplead@/Obrer@</td>\n",
       "    </tr>\n",
       "    <tr>\n",
       "      <th>2</th>\n",
       "      <td>C+</td>\n",
       "      <td>Edad objetivo(Menos de 34 años)</td>\n",
       "      <td>29</td>\n",
       "      <td>Más de 13k</td>\n",
       "      <td>100k&gt; habitantes</td>\n",
       "      <td>Hombres</td>\n",
       "      <td>Formal</td>\n",
       "      <td>Emplead@/Obrer@</td>\n",
       "    </tr>\n",
       "    <tr>\n",
       "      <th>3</th>\n",
       "      <td>C</td>\n",
       "      <td>Más de 34 años</td>\n",
       "      <td>56</td>\n",
       "      <td>Sin ingresos</td>\n",
       "      <td>100k&gt; habitantes</td>\n",
       "      <td>Mujeres</td>\n",
       "      <td>Sin clasificar</td>\n",
       "      <td>Trabajo negocio</td>\n",
       "    </tr>\n",
       "    <tr>\n",
       "      <th>4</th>\n",
       "      <td>C-</td>\n",
       "      <td>Más de 34 años</td>\n",
       "      <td>37</td>\n",
       "      <td>Entre 5k y 13k</td>\n",
       "      <td>100k&gt; habitantes</td>\n",
       "      <td>Mujeres</td>\n",
       "      <td>Formal</td>\n",
       "      <td>Emplead@/Obrer@</td>\n",
       "    </tr>\n",
       "    <tr>\n",
       "      <th>...</th>\n",
       "      <td>...</td>\n",
       "      <td>...</td>\n",
       "      <td>...</td>\n",
       "      <td>...</td>\n",
       "      <td>...</td>\n",
       "      <td>...</td>\n",
       "      <td>...</td>\n",
       "      <td>...</td>\n",
       "    </tr>\n",
       "    <tr>\n",
       "      <th>13549</th>\n",
       "      <td>E</td>\n",
       "      <td>Edad objetivo(Menos de 34 años)</td>\n",
       "      <td>21</td>\n",
       "      <td>Sin ingresos</td>\n",
       "      <td>2.5&lt; habitantes</td>\n",
       "      <td>Mujeres</td>\n",
       "      <td>No trabaja</td>\n",
       "      <td>Trabajador@ del hogar</td>\n",
       "    </tr>\n",
       "    <tr>\n",
       "      <th>13550</th>\n",
       "      <td>D</td>\n",
       "      <td>Edad objetivo(Menos de 34 años)</td>\n",
       "      <td>22</td>\n",
       "      <td>Entre 5k y 13k</td>\n",
       "      <td>2.5&lt; habitantes</td>\n",
       "      <td>Mujeres</td>\n",
       "      <td>Informal</td>\n",
       "      <td>Emplead@/Obrer@</td>\n",
       "    </tr>\n",
       "    <tr>\n",
       "      <th>13551</th>\n",
       "      <td>D</td>\n",
       "      <td>Más de 34 años</td>\n",
       "      <td>45</td>\n",
       "      <td>Sin ingresos</td>\n",
       "      <td>2.5&lt; habitantes</td>\n",
       "      <td>Hombres</td>\n",
       "      <td>Sin clasificar</td>\n",
       "      <td>Negocio familiar</td>\n",
       "    </tr>\n",
       "    <tr>\n",
       "      <th>13552</th>\n",
       "      <td>D</td>\n",
       "      <td>Más de 34 años</td>\n",
       "      <td>63</td>\n",
       "      <td>Menor o igual a 5k</td>\n",
       "      <td>2.5&lt; habitantes</td>\n",
       "      <td>Hombres</td>\n",
       "      <td>Informal</td>\n",
       "      <td>Jornaler@/Peon</td>\n",
       "    </tr>\n",
       "    <tr>\n",
       "      <th>13553</th>\n",
       "      <td>E</td>\n",
       "      <td>Edad objetivo(Menos de 34 años)</td>\n",
       "      <td>28</td>\n",
       "      <td>Menor o igual a 5k</td>\n",
       "      <td>2.5&lt; habitantes</td>\n",
       "      <td>Hombres</td>\n",
       "      <td>Informal</td>\n",
       "      <td>Trabaja independiente</td>\n",
       "    </tr>\n",
       "  </tbody>\n",
       "</table>\n",
       "<p>13554 rows × 8 columns</p>\n",
       "</div>"
      ],
      "text/plain": [
       "      NSE_AMAI                      Grupos_edad  edad        niv_ingresos  \\\n",
       "0            D                   Más de 34 años    83        Sin ingresos   \n",
       "1           C-  Edad objetivo(Menos de 34 años)    20  Menor o igual a 5k   \n",
       "2           C+  Edad objetivo(Menos de 34 años)    29          Más de 13k   \n",
       "3            C                   Más de 34 años    56        Sin ingresos   \n",
       "4           C-                   Más de 34 años    37      Entre 5k y 13k   \n",
       "...        ...                              ...   ...                 ...   \n",
       "13549        E  Edad objetivo(Menos de 34 años)    21        Sin ingresos   \n",
       "13550        D  Edad objetivo(Menos de 34 años)    22      Entre 5k y 13k   \n",
       "13551        D                   Más de 34 años    45        Sin ingresos   \n",
       "13552        D                   Más de 34 años    63  Menor o igual a 5k   \n",
       "13553        E  Edad objetivo(Menos de 34 años)    28  Menor o igual a 5k   \n",
       "\n",
       "              Localidad     sexo          formal                ROL_eco  \n",
       "0      100k> habitantes  Mujeres      No trabaja            Desemplead@  \n",
       "1      100k> habitantes  Mujeres          Formal        Emplead@/Obrer@  \n",
       "2      100k> habitantes  Hombres          Formal        Emplead@/Obrer@  \n",
       "3      100k> habitantes  Mujeres  Sin clasificar        Trabajo negocio  \n",
       "4      100k> habitantes  Mujeres          Formal        Emplead@/Obrer@  \n",
       "...                 ...      ...             ...                    ...  \n",
       "13549   2.5< habitantes  Mujeres      No trabaja  Trabajador@ del hogar  \n",
       "13550   2.5< habitantes  Mujeres        Informal        Emplead@/Obrer@  \n",
       "13551   2.5< habitantes  Hombres  Sin clasificar       Negocio familiar  \n",
       "13552   2.5< habitantes  Hombres        Informal         Jornaler@/Peon  \n",
       "13553   2.5< habitantes  Hombres        Informal  Trabaja independiente  \n",
       "\n",
       "[13554 rows x 8 columns]"
      ]
     },
     "execution_count": 38,
     "metadata": {},
     "output_type": "execute_result"
    }
   ],
   "source": [
    "ENIF_Demos"
   ]
  },
  {
   "cell_type": "code",
   "execution_count": 39,
   "id": "4ce0df18",
   "metadata": {},
   "outputs": [],
   "source": [
    "def Eco_sim(x):\n",
    "    if x==\"Emplead@/Obrer@\" :\n",
    "        return \"Emplead@/Obrer@\"\n",
    "    elif x==\"Trabaja independiente\":\n",
    "        return \"Independiente\"\n",
    "    elif x==\"Trabajador@ del hogar\":\n",
    "        return \"Trabajador@ del hogar\"\n",
    "    elif x=='Desemplead@ ':\n",
    "        return \"Desemplead@ \"\n",
    "    elif x=='Negocio familiar':\n",
    "        return \"Negocio familiar\"\n",
    "    elif x=='Jubilad@':\n",
    "        return \"Jubilad@\"\n",
    "    else:\n",
    "        return \"Otros\""
   ]
  },
  {
   "cell_type": "code",
   "execution_count": 40,
   "id": "aef876bc",
   "metadata": {},
   "outputs": [],
   "source": [
    "def Base_piramide(x):\n",
    "    if x==\"D\" :\n",
    "        return \"NSE_Objetivo\"\n",
    "    elif x==\"D+\":\n",
    "        return \"NSE_Objetivo\"\n",
    "    elif x==\"C-\":\n",
    "        return \"NSE_Objetivo\"\n",
    "    else:\n",
    "        return \"Otros NSE\""
   ]
  },
  {
   "cell_type": "code",
   "execution_count": 41,
   "id": "f3789974",
   "metadata": {},
   "outputs": [],
   "source": [
    "ENIF_Demos.rename(columns = {'ROL_eco_s':'Ocupacion'}, inplace = True)"
   ]
  },
  {
   "cell_type": "markdown",
   "id": "ccced11c",
   "metadata": {},
   "source": [
    "## Plots"
   ]
  },
  {
   "cell_type": "code",
   "execution_count": 42,
   "id": "475657d1",
   "metadata": {},
   "outputs": [],
   "source": [
    "import seaborn as sns"
   ]
  },
  {
   "cell_type": "code",
   "execution_count": 43,
   "id": "995ac4b3",
   "metadata": {},
   "outputs": [],
   "source": [
    "#https://coolors.co/gradient-palette/ee3a3a-ffffff?number=6\n",
    "\n",
    "paleta_ozmo=['#ee3a3a','#454545','#444ee6','#01f1ba']\n",
    "paleta_ozmo2=['#ee3a3a','#454545','#444ee6','#01f1ba','#F58E8E','#959595']\n",
    "paleta_bin_ozmo=['#ee3a3a','#454545']\n",
    "paleta_red_deg=['#EE3A3A','#F05656','#F37272','#F58E8E','#F8ABAB','#FAC7C7','#FDE3E3']\n",
    "paleta_gray_deg=['#454545', '#606060', '#7A7A7A', '#959595', '#AFAFAF', '#CACACA', '#E4E4E4']\n",
    "paleta_blue_deg=[\"#444EE6\",\"#5F67EA\",\"#7981ED\",\"#949AF1\",\"#AFB3F4\",\"#CACCF8\",\"#E4E6FB\"]\n",
    "paleta_green_deg=[\"#01F1BA\",\"#2BF3C6\",\"#56F6D1\",\"#80F8DD\",\"#AAFAE8\",\"#D5FDF4\",\"#FFFFFF\"]\n",
    "\n",
    "\n",
    "paleta_red_deg_4=['#EE3A3A','#F37272','#F8ABAB','#FDE3E3']\n",
    "paleta_gray_deg_4=['#454545', '#7A7A7A',  '#AFAFAF', '#E4E4E4']\n",
    "paleta_blue_deg_4=[\"#444EE6\",\"#7981ED\",\"#AFB3F4\",\"#E4E6FB\"]\n",
    "paleta_green_deg_4=[\"#01F1BA\",\"#56F6D1\",\"#AAFAE8\",\"#D5FDF4\"]\n",
    "\n"
   ]
  },
  {
   "cell_type": "code",
   "execution_count": 44,
   "id": "1a712c46",
   "metadata": {},
   "outputs": [
    {
     "data": {
      "text/plain": [
       "Mujeres    54.190645\n",
       "Hombres    45.809355\n",
       "Name: sexo, dtype: float64"
      ]
     },
     "execution_count": 44,
     "metadata": {},
     "output_type": "execute_result"
    }
   ],
   "source": [
    "(ENIF_Demos['sexo'].value_counts()/ENIF_Demos['sexo'].count())*100"
   ]
  },
  {
   "cell_type": "code",
   "execution_count": 45,
   "id": "89cdec2a",
   "metadata": {},
   "outputs": [
    {
     "data": {
      "text/plain": [
       "Mujeres    7345\n",
       "Hombres    6209\n",
       "Name: sexo, dtype: int64"
      ]
     },
     "execution_count": 45,
     "metadata": {},
     "output_type": "execute_result"
    }
   ],
   "source": [
    "(ENIF_Demos['sexo'].value_counts())"
   ]
  },
  {
   "cell_type": "code",
   "execution_count": 47,
   "id": "acd02ff0",
   "metadata": {},
   "outputs": [
    {
     "data": {
      "image/png": "[encoded data removed]",
      "text/plain": [
       "<Figure size 360x360 with 1 Axes>"
      ]
     },
     "metadata": {
      "needs_background": "light"
     },
     "output_type": "display_data"
    },
    {
     "data": {
      "text/plain": [
       "<Figure size 2520x216 with 0 Axes>"
      ]
     },
     "metadata": {},
     "output_type": "display_data"
    }
   ],
   "source": [
    "graf_sex=sns.catplot(x='sexo',data=ENIF_Demos, kind='count',palette=paleta_bin_ozmo) \n",
    "plt.xlabel('', fontsize=18)\n",
    "plt.ylabel('Conteo', fontsize=16)\n",
    "plt.annotate('55%',\n",
    "            xy=(120, 320), xycoords='figure points',weight=\"bold\")\n",
    "plt.annotate('45%',\n",
    "            xy=(260, 276), xycoords='figure points',weight=\"bold\")\n",
    "graf_sex.fig.suptitle('');\n",
    "plt.figure(figsize=(35, 3))\n",
    "graf_sex.savefig('Results/Graphs/sexo.png')"
   ]
  },
  {
   "cell_type": "code",
   "execution_count": 48,
   "id": "93bf2cac",
   "metadata": {},
   "outputs": [
    {
     "data": {
      "text/plain": [
       "Más de 34 años                     65.124686\n",
       "Edad objetivo(Menos de 34 años)    34.875314\n",
       "Name: Grupos_edad, dtype: float64"
      ]
     },
     "execution_count": 48,
     "metadata": {},
     "output_type": "execute_result"
    }
   ],
   "source": [
    "(ENIF_Demos['Grupos_edad'].value_counts()/ENIF_Demos['Grupos_edad'].count())*100"
   ]
  },
  {
   "cell_type": "code",
   "execution_count": 49,
   "id": "cbcb1a5e",
   "metadata": {},
   "outputs": [
    {
     "data": {
      "text/plain": [
       "Más de 34 años                     8827\n",
       "Edad objetivo(Menos de 34 años)    4727\n",
       "Name: Grupos_edad, dtype: int64"
      ]
     },
     "execution_count": 49,
     "metadata": {},
     "output_type": "execute_result"
    }
   ],
   "source": [
    "(ENIF_Demos['Grupos_edad'].value_counts())"
   ]
  },
  {
   "cell_type": "code",
   "execution_count": 50,
   "id": "39c61251",
   "metadata": {},
   "outputs": [
    {
     "data": {
      "image/png": "[encoded data removed]",
      "text/plain": [
       "<Figure size 360x360 with 1 Axes>"
      ]
     },
     "metadata": {
      "needs_background": "light"
     },
     "output_type": "display_data"
    },
    {
     "data": {
      "text/plain": [
       "<Figure size 2520x216 with 0 Axes>"
      ]
     },
     "metadata": {},
     "output_type": "display_data"
    }
   ],
   "source": [
    "graf_age=sns.catplot(x='Grupos_edad',data=ENIF_Demos, kind='count',palette=paleta_bin_ozmo) \n",
    "plt.xlabel('', fontsize=18)\n",
    "plt.ylabel('Conteo', fontsize=16)\n",
    "plt.annotate('65%',\n",
    "            xy=(120, 320), xycoords='figure points',weight=\"bold\")\n",
    "plt.annotate('35%',\n",
    "            xy=(260, 185), xycoords='figure points',weight=\"bold\")\n",
    "graf_age.fig.suptitle('');\n",
    "plt.figure(figsize=(35, 3))\n",
    "graf_age.savefig('Results/Graphs/edad.png')"
   ]
  },
  {
   "cell_type": "code",
   "execution_count": 51,
   "id": "c50800c7",
   "metadata": {},
   "outputs": [
    {
     "data": {
      "image/png": "[encoded data removed]",
      "text/plain": [
       "<Figure size 360x360 with 1 Axes>"
      ]
     },
     "metadata": {
      "needs_background": "light"
     },
     "output_type": "display_data"
    },
    {
     "data": {
      "text/plain": [
       "<Figure size 2520x216 with 0 Axes>"
      ]
     },
     "metadata": {},
     "output_type": "display_data"
    }
   ],
   "source": [
    "orden_amai=['E','D','D+', 'C-', 'C', 'C+',  'A/B' ]\n",
    "graf_NSE=sns.catplot(x='NSE_AMAI',data=ENIF_Demos, kind='count',order=orden_amai,palette=paleta_gray_deg) \n",
    "plt.xlabel('', fontsize=18)\n",
    "plt.ylabel('Conteo', fontsize=16)\n",
    "plt.annotate('11%',\n",
    "            xy=(65, 135), xycoords='figure points',weight=\"bold\")\n",
    "plt.annotate('29%',\n",
    "            xy=(110, 320), xycoords='figure points',weight=\"bold\")\n",
    "plt.annotate('16%',\n",
    "            xy=(155, 195), xycoords='figure points',weight=\"bold\")\n",
    "plt.annotate('19%',\n",
    "            xy=(196, 215), xycoords='figure points',weight=\"bold\")\n",
    "plt.annotate('13%',\n",
    "            xy=(238, 158), xycoords='figure points',weight=\"bold\")\n",
    "plt.annotate('9%',\n",
    "            xy=(280, 115), xycoords='figure points',weight=\"bold\")\n",
    "plt.annotate('3%',\n",
    "            xy=(325, 65), xycoords='figure points',weight=\"bold\")\n",
    "graf_NSE.fig.suptitle('');\n",
    "plt.figure(figsize=(35, 3))\n",
    "graf_NSE.savefig('Results/Graphs/NSE.png');"
   ]
  },
  {
   "cell_type": "code",
   "execution_count": 52,
   "id": "98dfef19",
   "metadata": {},
   "outputs": [
    {
     "data": {
      "text/plain": [
       "D      3915\n",
       "C-     2548\n",
       "D+     2215\n",
       "C      1759\n",
       "E      1442\n",
       "C+     1201\n",
       "A/B     474\n",
       "Name: NSE_AMAI, dtype: int64"
      ]
     },
     "execution_count": 52,
     "metadata": {},
     "output_type": "execute_result"
    }
   ],
   "source": [
    "(ENIF_Demos['NSE_AMAI'].value_counts())"
   ]
  },
  {
   "cell_type": "code",
   "execution_count": 53,
   "id": "2b92278e",
   "metadata": {},
   "outputs": [
    {
     "data": {
      "text/plain": [
       "D      28.884462\n",
       "C-     18.798879\n",
       "D+     16.342039\n",
       "C      12.977719\n",
       "E      10.638926\n",
       "C+      8.860853\n",
       "A/B     3.497123\n",
       "Name: NSE_AMAI, dtype: float64"
      ]
     },
     "execution_count": 53,
     "metadata": {},
     "output_type": "execute_result"
    }
   ],
   "source": [
    "(ENIF_Demos['NSE_AMAI'].value_counts()/ENIF_Demos['NSE_AMAI'].count())*100"
   ]
  },
  {
   "cell_type": "code",
   "execution_count": 54,
   "id": "3d71deb0",
   "metadata": {},
   "outputs": [
    {
     "data": {
      "text/plain": [
       "<Figure size 2520x3240 with 0 Axes>"
      ]
     },
     "metadata": {},
     "output_type": "display_data"
    },
    {
     "data": {
      "image/png": "[encoded data removed]",
      "text/plain": [
       "<Figure size 435.6x396 with 1 Axes>"
      ]
     },
     "metadata": {
      "needs_background": "light"
     },
     "output_type": "display_data"
    }
   ],
   "source": [
    "plt.figure(figsize=(35, 45))\n",
    "#orden_amai=['E','D','D+', 'C-', 'C', 'C+',  'A/B' ]\n",
    "graf_amai=sns.catplot(x='niv_ingresos',data=ENIF_Demos, kind='count',palette=paleta_blue_deg, height=5.5,\n",
    "                      aspect=1.1) \n",
    "plt.xlabel('', fontsize=18)\n",
    "plt.ylabel('Conteo', fontsize=16)\n",
    "plt.annotate('39%',\n",
    "            xy=(100, 352), xycoords='figure points',weight=\"bold\")\n",
    "plt.annotate('27%',\n",
    "            xy=(183, 245), xycoords='figure points',weight=\"bold\")\n",
    "plt.annotate('26%',\n",
    "            xy=(281, 259), xycoords='figure points',weight=\"bold\")\n",
    "plt.annotate('7%',\n",
    "            xy=(370, 85), xycoords='figure points',weight=\"bold\")\n",
    "\n",
    "\n",
    "graf_amai.savefig('Results/Graphs/Ingresos.png');"
   ]
  },
  {
   "cell_type": "code",
   "execution_count": 55,
   "id": "c26120ae",
   "metadata": {},
   "outputs": [
    {
     "data": {
      "text/plain": [
       "Sin ingresos          5311\n",
       "Entre 5k y 13k        3735\n",
       "Menor o igual a 5k    3557\n",
       "Más de 13k             951\n",
       "Name: niv_ingresos, dtype: int64"
      ]
     },
     "execution_count": 55,
     "metadata": {},
     "output_type": "execute_result"
    }
   ],
   "source": [
    "(ENIF_Demos['niv_ingresos'].value_counts())"
   ]
  },
  {
   "cell_type": "code",
   "execution_count": 56,
   "id": "0de17ab6",
   "metadata": {},
   "outputs": [
    {
     "data": {
      "text/plain": [
       "Sin ingresos          39.184005\n",
       "Entre 5k y 13k        27.556441\n",
       "Menor o igual a 5k    26.243175\n",
       "Más de 13k             7.016379\n",
       "Name: niv_ingresos, dtype: float64"
      ]
     },
     "execution_count": 56,
     "metadata": {},
     "output_type": "execute_result"
    }
   ],
   "source": [
    "(ENIF_Demos['niv_ingresos'].value_counts()/ENIF_Demos['niv_ingresos'].count())*100"
   ]
  },
  {
   "cell_type": "code",
   "execution_count": 57,
   "id": "d3d8d144",
   "metadata": {},
   "outputs": [
    {
     "data": {
      "text/plain": [
       "<Figure size 2520x3240 with 0 Axes>"
      ]
     },
     "metadata": {},
     "output_type": "display_data"
    },
    {
     "data": {
      "image/png": "[encoded data removed]",
      "text/plain": [
       "<Figure size 435.6x396 with 1 Axes>"
      ]
     },
     "metadata": {
      "needs_background": "light"
     },
     "output_type": "display_data"
    }
   ],
   "source": [
    "plt.figure(figsize=(35, 45))\n",
    "#orden_amai=['E','D','D+', 'C-', 'C', 'C+',  'A/B' ]\n",
    "graf_amai=sns.catplot(x='niv_ingresos',data=ENIF_Demos, kind='count',palette=paleta_blue_deg, height=5.5,\n",
    "                      aspect=1.1) \n",
    "plt.xlabel('', fontsize=18)\n",
    "plt.ylabel('Conteo', fontsize=16)\n",
    "plt.annotate('11%',\n",
    "            xy=(100, 352), xycoords='figure points',weight=\"bold\")\n",
    "plt.annotate('29%',\n",
    "            xy=(183, 245), xycoords='figure points',weight=\"bold\")\n",
    "plt.annotate('16%',\n",
    "            xy=(281, 259), xycoords='figure points',weight=\"bold\")\n",
    "plt.annotate('19%',\n",
    "            xy=(370, 85), xycoords='figure points',weight=\"bold\")\n",
    "\n",
    "\n",
    "graf_amai.savefig('Results/Graphs/Ingresos.png');"
   ]
  },
  {
   "cell_type": "code",
   "execution_count": 58,
   "id": "1fa3e367",
   "metadata": {},
   "outputs": [],
   "source": [
    "ENIF_Demos['ROL_eco_s'] = ENIF_Demos.apply(lambda x: Eco_sim(x['ROL_eco']), axis=1)"
   ]
  },
  {
   "cell_type": "code",
   "execution_count": 59,
   "id": "52b5a9e0",
   "metadata": {},
   "outputs": [
    {
     "data": {
      "text/plain": [
       "Emplead@/Obrer@          40.423491\n",
       "Independiente            18.666076\n",
       "Otros                    17.013428\n",
       "Trabajador@ del hogar    14.947617\n",
       "Negocio familiar          4.500516\n",
       "Jubilad@                  4.448871\n",
       "Name: ROL_eco_s, dtype: float64"
      ]
     },
     "execution_count": 59,
     "metadata": {},
     "output_type": "execute_result"
    }
   ],
   "source": [
    "(ENIF_Demos['ROL_eco_s'].value_counts()/ENIF_Demos['ROL_eco_s'].count())*100"
   ]
  },
  {
   "cell_type": "code",
   "execution_count": 60,
   "id": "e405fa3e",
   "metadata": {},
   "outputs": [
    {
     "data": {
      "text/plain": [
       "Emplead@/Obrer@                 40.423491\n",
       "Trabaja independiente           18.666076\n",
       "Trabajador@ del hogar           14.947617\n",
       "Desemplead@                      6.721263\n",
       "Negocio familiar                 4.500516\n",
       "Jubilad@                         4.448871\n",
       "Jornaler@/Peon                   4.205401\n",
       "Estudiante                       2.169101\n",
       "Patron/Empleador@                1.232109\n",
       "Incapacitad@                     1.150952\n",
       "Vendedor@ o productor@           0.472185\n",
       "Trabajo negocio                  0.435296\n",
       "Trabajo en el campo              0.383651\n",
       "Trabajo domestico remunerado     0.243471\n",
       "Name: ROL_eco, dtype: float64"
      ]
     },
     "execution_count": 60,
     "metadata": {},
     "output_type": "execute_result"
    }
   ],
   "source": [
    "(ENIF_Demos['ROL_eco'].value_counts()/ENIF_Demos['ROL_eco'].count())*100"
   ]
  },
  {
   "cell_type": "code",
   "execution_count": 61,
   "id": "6903b7b1",
   "metadata": {},
   "outputs": [
    {
     "data": {
      "text/plain": [
       "<Figure size 2520x3240 with 0 Axes>"
      ]
     },
     "metadata": {},
     "output_type": "display_data"
    },
    {
     "data": {
      "image/png": "[encoded data removed]",
      "text/plain": [
       "<Figure size 673.2x396 with 1 Axes>"
      ]
     },
     "metadata": {
      "needs_background": "light"
     },
     "output_type": "display_data"
    }
   ],
   "source": [
    "plt.figure(figsize=(35, 45))\n",
    "orden_rol=['Emplead@/Obrer@','Independiente','Otros', 'Trabajador@ del hogar', 'Negocio familiar', 'Jubilad@']\n",
    "graf_rol=sns.catplot(x='ROL_eco_s',data=ENIF_Demos, kind='count',palette=paleta_green_deg, height=5.5,\n",
    "                      aspect=1.7, order=orden_rol) \n",
    "plt.xlabel('', fontsize=18)\n",
    "plt.ylabel('Conteo', fontsize=16)\n",
    "plt.annotate('40%',\n",
    "            xy=(95, 352), xycoords='figure points',weight=\"bold\")\n",
    "plt.annotate('19%',\n",
    "            xy=(195, 177), xycoords='figure points',weight=\"bold\")\n",
    "plt.annotate('17%',\n",
    "            xy=(300, 165), xycoords='figure points',weight=\"bold\")\n",
    "plt.annotate('14%',\n",
    "            xy=(400, 146), xycoords='figure points',weight=\"bold\")\n",
    "plt.annotate('5%',\n",
    "            xy=(500, 65), xycoords='figure points',weight=\"bold\")\n",
    "plt.annotate('4%',\n",
    "            xy=(600, 64), xycoords='figure points',weight=\"bold\")\n",
    "\n",
    "graf_rol.savefig('Results/Graphs/ROL.png');"
   ]
  },
  {
   "cell_type": "code",
   "execution_count": 62,
   "id": "2e6c45d4",
   "metadata": {},
   "outputs": [
    {
     "data": {
      "text/plain": [
       "Emplead@/Obrer@                 5479\n",
       "Trabaja independiente           2530\n",
       "Trabajador@ del hogar           2026\n",
       "Desemplead@                      911\n",
       "Negocio familiar                 610\n",
       "Jubilad@                         603\n",
       "Jornaler@/Peon                   570\n",
       "Estudiante                       294\n",
       "Patron/Empleador@                167\n",
       "Incapacitad@                     156\n",
       "Vendedor@ o productor@            64\n",
       "Trabajo negocio                   59\n",
       "Trabajo en el campo               52\n",
       "Trabajo domestico remunerado      33\n",
       "Name: ROL_eco, dtype: int64"
      ]
     },
     "execution_count": 62,
     "metadata": {},
     "output_type": "execute_result"
    }
   ],
   "source": [
    "(ENIF_Demos['ROL_eco'].value_counts())"
   ]
  },
  {
   "cell_type": "code",
   "execution_count": 63,
   "id": "7ed8e2af",
   "metadata": {},
   "outputs": [
    {
     "data": {
      "text/plain": [
       "<Figure size 2520x3240 with 0 Axes>"
      ]
     },
     "metadata": {},
     "output_type": "display_data"
    },
    {
     "data": {
      "image/png": "[encoded data removed]",
      "text/plain": [
       "<Figure size 554.4x396 with 1 Axes>"
      ]
     },
     "metadata": {
      "needs_background": "light"
     },
     "output_type": "display_data"
    }
   ],
   "source": [
    "plt.figure(figsize=(35, 45))\n",
    "#orden_rol=['Emplead@/Obrer@','Independiente','Otros', 'Trabajador@ del hogar', 'Negocio familiar', 'Jubilad@']\n",
    "graf_rol=sns.catplot(x='Localidad',data=ENIF_Demos, kind='count',palette=paleta_gray_deg_4, height=5.5,\n",
    "                      aspect=1.4) \n",
    "plt.xlabel('', fontsize=18)\n",
    "plt.ylabel('Conteo', fontsize=16)\n",
    "plt.annotate('48%',\n",
    "            xy=(95, 353), xycoords='figure points',weight=\"bold\")\n",
    "plt.annotate('23%',\n",
    "            xy=(230, 128), xycoords='figure points',weight=\"bold\")\n",
    "plt.annotate('14%',\n",
    "            xy=(350, 120), xycoords='figure points',weight=\"bold\")\n",
    "plt.annotate('13%',\n",
    "            xy=(470, 185), xycoords='figure points',weight=\"bold\")\n",
    "\n",
    "graf_rol.savefig('Results/Graphs/Localidad.png');"
   ]
  },
  {
   "cell_type": "code",
   "execution_count": 64,
   "id": "038acfa4",
   "metadata": {},
   "outputs": [
    {
     "data": {
      "text/plain": [
       "100k> habitantes         48.576066\n",
       "2.5< habitantes          23.225616\n",
       "15k a 100k habitantes    14.615612\n",
       "2.5k a 15k habitantes    13.582706\n",
       "Name: Localidad, dtype: float64"
      ]
     },
     "execution_count": 64,
     "metadata": {},
     "output_type": "execute_result"
    }
   ],
   "source": [
    "(ENIF_Demos['Localidad'].value_counts()/ENIF_Demos['Localidad'].count())*100"
   ]
  },
  {
   "cell_type": "code",
   "execution_count": 65,
   "id": "e193e56d",
   "metadata": {},
   "outputs": [],
   "source": [
    "ENIF_Demos['Base_piramide'] = ENIF_Demos.apply(lambda x: Base_piramide(x['NSE_AMAI']), axis=1)"
   ]
  },
  {
   "cell_type": "code",
   "execution_count": 66,
   "id": "de94cd59",
   "metadata": {},
   "outputs": [
    {
     "data": {
      "text/plain": [
       "NSE_Objetivo    8678\n",
       "Otros NSE       4876\n",
       "Name: Base_piramide, dtype: int64"
      ]
     },
     "execution_count": 66,
     "metadata": {},
     "output_type": "execute_result"
    }
   ],
   "source": [
    "(ENIF_Demos['Base_piramide'].value_counts())"
   ]
  },
  {
   "cell_type": "code",
   "execution_count": 67,
   "id": "3438d1fa",
   "metadata": {},
   "outputs": [
    {
     "data": {
      "text/plain": [
       "D      3915\n",
       "C-     2548\n",
       "D+     2215\n",
       "C      1759\n",
       "E      1442\n",
       "C+     1201\n",
       "A/B     474\n",
       "Name: NSE_AMAI, dtype: int64"
      ]
     },
     "execution_count": 67,
     "metadata": {},
     "output_type": "execute_result"
    }
   ],
   "source": [
    "(ENIF_Demos['NSE_AMAI'].value_counts())"
   ]
  },
  {
   "cell_type": "code",
   "execution_count": 68,
   "id": "03b74dc4",
   "metadata": {},
   "outputs": [],
   "source": [
    "def Pb_Objetivo(x,y):\n",
    "    if (x<=34) & (y==\"NSE_Objetivo\"):\n",
    "        return \"Juventudes BdP\"\n",
    "    else:\n",
    "        return \"Poblacion restante\""
   ]
  },
  {
   "cell_type": "code",
   "execution_count": 69,
   "id": "0cc62d55",
   "metadata": {},
   "outputs": [
    {
     "data": {
      "text/html": [
       "<div>\n",
       "<style scoped>\n",
       "    .dataframe tbody tr th:only-of-type {\n",
       "        vertical-align: middle;\n",
       "    }\n",
       "\n",
       "    .dataframe tbody tr th {\n",
       "        vertical-align: top;\n",
       "    }\n",
       "\n",
       "    .dataframe thead th {\n",
       "        text-align: right;\n",
       "    }\n",
       "</style>\n",
       "<table border=\"1\" class=\"dataframe\">\n",
       "  <thead>\n",
       "    <tr style=\"text-align: right;\">\n",
       "      <th></th>\n",
       "      <th>NSE_AMAI</th>\n",
       "      <th>Grupos_edad</th>\n",
       "      <th>edad</th>\n",
       "      <th>niv_ingresos</th>\n",
       "      <th>Localidad</th>\n",
       "      <th>sexo</th>\n",
       "      <th>formal</th>\n",
       "      <th>ROL_eco</th>\n",
       "      <th>ROL_eco_s</th>\n",
       "      <th>Base_piramide</th>\n",
       "    </tr>\n",
       "  </thead>\n",
       "  <tbody>\n",
       "    <tr>\n",
       "      <th>0</th>\n",
       "      <td>D</td>\n",
       "      <td>Más de 34 años</td>\n",
       "      <td>83</td>\n",
       "      <td>Sin ingresos</td>\n",
       "      <td>100k&gt; habitantes</td>\n",
       "      <td>Mujeres</td>\n",
       "      <td>No trabaja</td>\n",
       "      <td>Desemplead@</td>\n",
       "      <td>Otros</td>\n",
       "      <td>NSE_Objetivo</td>\n",
       "    </tr>\n",
       "    <tr>\n",
       "      <th>1</th>\n",
       "      <td>C-</td>\n",
       "      <td>Edad objetivo(Menos de 34 años)</td>\n",
       "      <td>20</td>\n",
       "      <td>Menor o igual a 5k</td>\n",
       "      <td>100k&gt; habitantes</td>\n",
       "      <td>Mujeres</td>\n",
       "      <td>Formal</td>\n",
       "      <td>Emplead@/Obrer@</td>\n",
       "      <td>Emplead@/Obrer@</td>\n",
       "      <td>NSE_Objetivo</td>\n",
       "    </tr>\n",
       "    <tr>\n",
       "      <th>2</th>\n",
       "      <td>C+</td>\n",
       "      <td>Edad objetivo(Menos de 34 años)</td>\n",
       "      <td>29</td>\n",
       "      <td>Más de 13k</td>\n",
       "      <td>100k&gt; habitantes</td>\n",
       "      <td>Hombres</td>\n",
       "      <td>Formal</td>\n",
       "      <td>Emplead@/Obrer@</td>\n",
       "      <td>Emplead@/Obrer@</td>\n",
       "      <td>Otros NSE</td>\n",
       "    </tr>\n",
       "    <tr>\n",
       "      <th>3</th>\n",
       "      <td>C</td>\n",
       "      <td>Más de 34 años</td>\n",
       "      <td>56</td>\n",
       "      <td>Sin ingresos</td>\n",
       "      <td>100k&gt; habitantes</td>\n",
       "      <td>Mujeres</td>\n",
       "      <td>Sin clasificar</td>\n",
       "      <td>Trabajo negocio</td>\n",
       "      <td>Otros</td>\n",
       "      <td>Otros NSE</td>\n",
       "    </tr>\n",
       "    <tr>\n",
       "      <th>4</th>\n",
       "      <td>C-</td>\n",
       "      <td>Más de 34 años</td>\n",
       "      <td>37</td>\n",
       "      <td>Entre 5k y 13k</td>\n",
       "      <td>100k&gt; habitantes</td>\n",
       "      <td>Mujeres</td>\n",
       "      <td>Formal</td>\n",
       "      <td>Emplead@/Obrer@</td>\n",
       "      <td>Emplead@/Obrer@</td>\n",
       "      <td>NSE_Objetivo</td>\n",
       "    </tr>\n",
       "    <tr>\n",
       "      <th>...</th>\n",
       "      <td>...</td>\n",
       "      <td>...</td>\n",
       "      <td>...</td>\n",
       "      <td>...</td>\n",
       "      <td>...</td>\n",
       "      <td>...</td>\n",
       "      <td>...</td>\n",
       "      <td>...</td>\n",
       "      <td>...</td>\n",
       "      <td>...</td>\n",
       "    </tr>\n",
       "    <tr>\n",
       "      <th>13549</th>\n",
       "      <td>E</td>\n",
       "      <td>Edad objetivo(Menos de 34 años)</td>\n",
       "      <td>21</td>\n",
       "      <td>Sin ingresos</td>\n",
       "      <td>2.5&lt; habitantes</td>\n",
       "      <td>Mujeres</td>\n",
       "      <td>No trabaja</td>\n",
       "      <td>Trabajador@ del hogar</td>\n",
       "      <td>Trabajador@ del hogar</td>\n",
       "      <td>Otros NSE</td>\n",
       "    </tr>\n",
       "    <tr>\n",
       "      <th>13550</th>\n",
       "      <td>D</td>\n",
       "      <td>Edad objetivo(Menos de 34 años)</td>\n",
       "      <td>22</td>\n",
       "      <td>Entre 5k y 13k</td>\n",
       "      <td>2.5&lt; habitantes</td>\n",
       "      <td>Mujeres</td>\n",
       "      <td>Informal</td>\n",
       "      <td>Emplead@/Obrer@</td>\n",
       "      <td>Emplead@/Obrer@</td>\n",
       "      <td>NSE_Objetivo</td>\n",
       "    </tr>\n",
       "    <tr>\n",
       "      <th>13551</th>\n",
       "      <td>D</td>\n",
       "      <td>Más de 34 años</td>\n",
       "      <td>45</td>\n",
       "      <td>Sin ingresos</td>\n",
       "      <td>2.5&lt; habitantes</td>\n",
       "      <td>Hombres</td>\n",
       "      <td>Sin clasificar</td>\n",
       "      <td>Negocio familiar</td>\n",
       "      <td>Negocio familiar</td>\n",
       "      <td>NSE_Objetivo</td>\n",
       "    </tr>\n",
       "    <tr>\n",
       "      <th>13552</th>\n",
       "      <td>D</td>\n",
       "      <td>Más de 34 años</td>\n",
       "      <td>63</td>\n",
       "      <td>Menor o igual a 5k</td>\n",
       "      <td>2.5&lt; habitantes</td>\n",
       "      <td>Hombres</td>\n",
       "      <td>Informal</td>\n",
       "      <td>Jornaler@/Peon</td>\n",
       "      <td>Otros</td>\n",
       "      <td>NSE_Objetivo</td>\n",
       "    </tr>\n",
       "    <tr>\n",
       "      <th>13553</th>\n",
       "      <td>E</td>\n",
       "      <td>Edad objetivo(Menos de 34 años)</td>\n",
       "      <td>28</td>\n",
       "      <td>Menor o igual a 5k</td>\n",
       "      <td>2.5&lt; habitantes</td>\n",
       "      <td>Hombres</td>\n",
       "      <td>Informal</td>\n",
       "      <td>Trabaja independiente</td>\n",
       "      <td>Independiente</td>\n",
       "      <td>Otros NSE</td>\n",
       "    </tr>\n",
       "  </tbody>\n",
       "</table>\n",
       "<p>13554 rows × 10 columns</p>\n",
       "</div>"
      ],
      "text/plain": [
       "      NSE_AMAI                      Grupos_edad  edad        niv_ingresos  \\\n",
       "0            D                   Más de 34 años    83        Sin ingresos   \n",
       "1           C-  Edad objetivo(Menos de 34 años)    20  Menor o igual a 5k   \n",
       "2           C+  Edad objetivo(Menos de 34 años)    29          Más de 13k   \n",
       "3            C                   Más de 34 años    56        Sin ingresos   \n",
       "4           C-                   Más de 34 años    37      Entre 5k y 13k   \n",
       "...        ...                              ...   ...                 ...   \n",
       "13549        E  Edad objetivo(Menos de 34 años)    21        Sin ingresos   \n",
       "13550        D  Edad objetivo(Menos de 34 años)    22      Entre 5k y 13k   \n",
       "13551        D                   Más de 34 años    45        Sin ingresos   \n",
       "13552        D                   Más de 34 años    63  Menor o igual a 5k   \n",
       "13553        E  Edad objetivo(Menos de 34 años)    28  Menor o igual a 5k   \n",
       "\n",
       "              Localidad     sexo          formal                ROL_eco  \\\n",
       "0      100k> habitantes  Mujeres      No trabaja            Desemplead@   \n",
       "1      100k> habitantes  Mujeres          Formal        Emplead@/Obrer@   \n",
       "2      100k> habitantes  Hombres          Formal        Emplead@/Obrer@   \n",
       "3      100k> habitantes  Mujeres  Sin clasificar        Trabajo negocio   \n",
       "4      100k> habitantes  Mujeres          Formal        Emplead@/Obrer@   \n",
       "...                 ...      ...             ...                    ...   \n",
       "13549   2.5< habitantes  Mujeres      No trabaja  Trabajador@ del hogar   \n",
       "13550   2.5< habitantes  Mujeres        Informal        Emplead@/Obrer@   \n",
       "13551   2.5< habitantes  Hombres  Sin clasificar       Negocio familiar   \n",
       "13552   2.5< habitantes  Hombres        Informal         Jornaler@/Peon   \n",
       "13553   2.5< habitantes  Hombres        Informal  Trabaja independiente   \n",
       "\n",
       "                   ROL_eco_s Base_piramide  \n",
       "0                      Otros  NSE_Objetivo  \n",
       "1            Emplead@/Obrer@  NSE_Objetivo  \n",
       "2            Emplead@/Obrer@     Otros NSE  \n",
       "3                      Otros     Otros NSE  \n",
       "4            Emplead@/Obrer@  NSE_Objetivo  \n",
       "...                      ...           ...  \n",
       "13549  Trabajador@ del hogar     Otros NSE  \n",
       "13550        Emplead@/Obrer@  NSE_Objetivo  \n",
       "13551       Negocio familiar  NSE_Objetivo  \n",
       "13552                  Otros  NSE_Objetivo  \n",
       "13553          Independiente     Otros NSE  \n",
       "\n",
       "[13554 rows x 10 columns]"
      ]
     },
     "execution_count": 69,
     "metadata": {},
     "output_type": "execute_result"
    }
   ],
   "source": [
    "ENIF_Demos"
   ]
  },
  {
   "cell_type": "code",
   "execution_count": 70,
   "id": "5613eaec",
   "metadata": {},
   "outputs": [],
   "source": [
    "ENIF_Demos['Poblacion de Interes'] = ENIF_Demos.apply(lambda x: Pb_Objetivo(x['edad'],x['Base_piramide']), axis=1)"
   ]
  },
  {
   "cell_type": "code",
   "execution_count": 71,
   "id": "67888e3f",
   "metadata": {},
   "outputs": [
    {
     "data": {
      "image/png": "[encoded data removed]",
      "text/plain": [
       "<Figure size 440.625x360 with 1 Axes>"
      ]
     },
     "metadata": {
      "needs_background": "light"
     },
     "output_type": "display_data"
    },
    {
     "data": {
      "text/plain": [
       "<Figure size 2520x216 with 0 Axes>"
      ]
     },
     "metadata": {},
     "output_type": "display_data"
    }
   ],
   "source": [
    "graf_sex=sns.catplot(x='Poblacion de Interes',data=ENIF_Demos, kind='count',palette=paleta_bin_ozmo, hue='sexo') \n",
    "plt.xlabel('', fontsize=18)\n",
    "plt.ylabel('Conteo', fontsize=16)\n",
    "plt.annotate('53%',\n",
    "            xy=(90, 320), xycoords='figure points',weight=\"bold\")\n",
    "plt.annotate('46%',\n",
    "            xy=(150, 278), xycoords='figure points',weight=\"bold\")\n",
    "graf_age.fig.suptitle('')\n",
    "plt.annotate('55%',\n",
    "            xy=(240, 120), xycoords='figure points',weight=\"bold\")\n",
    "plt.annotate('44%',\n",
    "            xy=(290, 105), xycoords='figure points',weight=\"bold\")\n",
    "graf_age.fig.suptitle('');\n",
    "plt.figure(figsize=(35, 3))\n",
    "graf_sex.savefig('Results/Graphs/sexo_pp.png')"
   ]
  },
  {
   "cell_type": "code",
   "execution_count": 72,
   "id": "9a2a7adb",
   "metadata": {},
   "outputs": [],
   "source": [
    "Juventudes_df=ENIF_Demos.loc[ENIF_Demos['Poblacion de Interes']=='Juventudes BdP']\n",
    "Pobrest_df=ENIF_Demos.loc[ENIF_Demos['Poblacion de Interes']=='Poblacion restante']"
   ]
  },
  {
   "cell_type": "code",
   "execution_count": 73,
   "id": "70ecb3ee",
   "metadata": {},
   "outputs": [
    {
     "data": {
      "text/plain": [
       "Mujeres    1780\n",
       "Hombres    1432\n",
       "Name: sexo, dtype: int64"
      ]
     },
     "execution_count": 73,
     "metadata": {},
     "output_type": "execute_result"
    }
   ],
   "source": [
    "Juventudes_df['sexo'].value_counts()"
   ]
  },
  {
   "cell_type": "code",
   "execution_count": 74,
   "id": "d783ba0d",
   "metadata": {},
   "outputs": [
    {
     "data": {
      "text/plain": [
       "Mujeres    55.417186\n",
       "Hombres    44.582814\n",
       "Name: sexo, dtype: float64"
      ]
     },
     "execution_count": 74,
     "metadata": {},
     "output_type": "execute_result"
    }
   ],
   "source": [
    "(Juventudes_df['sexo'].value_counts()/Juventudes_df['sexo'].count())*100"
   ]
  },
  {
   "cell_type": "code",
   "execution_count": 75,
   "id": "ddf70357",
   "metadata": {},
   "outputs": [
    {
     "data": {
      "text/plain": [
       "Mujeres    53.809708\n",
       "Hombres    46.190292\n",
       "Name: sexo, dtype: float64"
      ]
     },
     "execution_count": 75,
     "metadata": {},
     "output_type": "execute_result"
    }
   ],
   "source": [
    "(Pobrest_df['sexo'].value_counts()/Pobrest_df['sexo'].count())*100"
   ]
  },
  {
   "cell_type": "code",
   "execution_count": 76,
   "id": "9171848c",
   "metadata": {},
   "outputs": [],
   "source": [
    "ENIF_Demos.rename(columns = {'niv_ingresos':'Nivel de ingresos'}, inplace = True)"
   ]
  },
  {
   "cell_type": "code",
   "execution_count": 79,
   "id": "95631543",
   "metadata": {},
   "outputs": [
    {
     "data": {
      "image/png": "[encoded data removed]",
      "text/plain": [
       "<Figure size 488.625x360 with 1 Axes>"
      ]
     },
     "metadata": {
      "needs_background": "light"
     },
     "output_type": "display_data"
    },
    {
     "data": {
      "text/plain": [
       "<Figure size 2520x216 with 0 Axes>"
      ]
     },
     "metadata": {},
     "output_type": "display_data"
    }
   ],
   "source": [
    "graf_sex=sns.catplot(x='Poblacion de Interes',data=ENIF_Demos, kind='count',palette=paleta_gray_deg_4, hue='Nivel de ingresos') \n",
    "plt.xlabel('', fontsize=18)\n",
    "plt.ylabel('Conteo', fontsize=16)\n",
    "plt.annotate('41%',\n",
    "            xy=(80, 320), xycoords='figure points',weight=\"bold\")\n",
    "plt.annotate('25%',\n",
    "            xy=(105, 210), xycoords='figure points',weight=\"bold\")\n",
    "graf_age.fig.suptitle('')\n",
    "plt.annotate('25%',\n",
    "            xy=(135, 210), xycoords='figure points',weight=\"bold\")\n",
    "plt.annotate('4%',\n",
    "            xy=(155, 85), xycoords='figure points',weight=\"bold\")\n",
    "plt.annotate('33%',\n",
    "            xy=(212, 99), xycoords='figure points',weight=\"bold\")\n",
    "plt.annotate('25%',\n",
    "            xy=(240, 90), xycoords='figure points',weight=\"bold\")\n",
    "graf_age.fig.suptitle('')\n",
    "plt.annotate('34%',\n",
    "            xy=(274, 100), xycoords='figure points',weight=\"bold\")\n",
    "plt.annotate('4%',\n",
    "            xy=(300, 40), xycoords='figure points',weight=\"bold\")\n",
    "graf_age.fig.suptitle('')\n",
    "plt.figure(figsize=(35, 3))\n",
    "graf_sex.savefig('Results/Graphs/ingreso_pp.png')"
   ]
  },
  {
   "cell_type": "code",
   "execution_count": 600,
   "id": "aa217d0e",
   "metadata": {},
   "outputs": [
    {
     "data": {
      "text/plain": [
       "Entre 5k y 13k        34.339975\n",
       "Sin ingresos          33.001245\n",
       "Menor o igual a 5k    28.704857\n",
       "Más de 13k             3.953923\n",
       "Name: Nivel de ingresos, dtype: float64"
      ]
     },
     "execution_count": 600,
     "metadata": {},
     "output_type": "execute_result"
    }
   ],
   "source": [
    "(Juventudes_df['Nivel de ingresos'].value_counts()/Juventudes_df['Nivel de ingresos'].count())*100"
   ]
  },
  {
   "cell_type": "code",
   "execution_count": 601,
   "id": "e9868001",
   "metadata": {},
   "outputs": [
    {
     "data": {
      "text/plain": [
       "Sin ingresos          41.104235\n",
       "Menor o igual a 5k    25.478631\n",
       "Entre 5k y 13k        25.449623\n",
       "Más de 13k             7.967511\n",
       "Name: Nivel de ingresos, dtype: float64"
      ]
     },
     "execution_count": 601,
     "metadata": {},
     "output_type": "execute_result"
    }
   ],
   "source": [
    "(Pobrest_df['Nivel de ingresos'].value_counts()/Pobrest_df['Nivel de ingresos'].count())*100"
   ]
  },
  {
   "cell_type": "code",
   "execution_count": 602,
   "id": "9a3c8bf1",
   "metadata": {},
   "outputs": [
    {
     "data": {
      "text/plain": [
       "Entre 5k y 13k        1103\n",
       "Sin ingresos          1060\n",
       "Menor o igual a 5k     922\n",
       "Más de 13k             127\n",
       "Name: Nivel de ingresos, dtype: int64"
      ]
     },
     "execution_count": 602,
     "metadata": {},
     "output_type": "execute_result"
    }
   ],
   "source": [
    "Juventudes_df['Nivel de ingresos'].value_counts()"
   ]
  },
  {
   "cell_type": "code",
   "execution_count": 674,
   "id": "ae79a5d5",
   "metadata": {},
   "outputs": [
    {
     "data": {
      "image/png": "[encoded data removed]",
      "text/plain": [
       "<Figure size 703.65x396 with 1 Axes>"
      ]
     },
     "metadata": {
      "needs_background": "light"
     },
     "output_type": "display_data"
    },
    {
     "data": {
      "text/plain": [
       "<Figure size 2520x216 with 0 Axes>"
      ]
     },
     "metadata": {},
     "output_type": "display_data"
    }
   ],
   "source": [
    "orden_rol=['Emplead@/Obrer@','Independiente','Otros', 'Trabajador@ del hogar', 'Negocio familiar', 'Jubilad@']\n",
    "graf_sex=sns.catplot(x='Poblacion de Interes',data=ENIF_Demos, kind='count',palette=paleta_blue_deg_4 ,\n",
    "                     hue='Ocupacion', height=5.5,\n",
    "                      aspect=1.4)\n",
    "plt.xlabel('', fontsize=18)\n",
    "plt.ylabel('Conteo', fontsize=16)\n",
    "plt.annotate('16%',\n",
    "            xy=(85, 180), xycoords='figure points',weight=\"bold\")\n",
    "plt.annotate('37%',\n",
    "            xy=(115, 360), xycoords='figure points',weight=\"bold\")\n",
    "graf_age.fig.suptitle('')\n",
    "plt.annotate('15%',\n",
    "            xy=(149, 176), xycoords='figure points',weight=\"bold\")\n",
    "plt.annotate('5%',\n",
    "            xy=(180, 80), xycoords='figure points',weight=\"bold\")\n",
    "plt.annotate('20%',\n",
    "            xy=(215, 205), xycoords='figure points',weight=\"bold\")\n",
    "plt.annotate('4%',\n",
    "            xy=(245, 70), xycoords='figure points',weight=\"bold\")\n",
    "plt.annotate('19%',\n",
    "            xy=(320, 80), xycoords='figure points',weight=\"bold\")\n",
    "plt.annotate('50%',\n",
    "            xy=(355, 165), xycoords='figure points',weight=\"bold\")\n",
    "\n",
    "plt.annotate('12%',\n",
    "            xy=(390, 60), xycoords='figure points',weight=\"bold\")\n",
    "\n",
    "plt.annotate('13%',\n",
    "            xy=(452, 62), xycoords='figure points',weight=\"bold\")\n",
    "\n",
    "plt.annotate('5%',\n",
    "            xy=(490, 38), xycoords='figure points',weight=\"bold\")\n",
    "\n",
    "graf_age.fig.suptitle('')\n",
    "plt.figure(figsize=(35, 3))\n",
    "graf_sex.savefig('Results/Graphs/ocupacion_pp.png')"
   ]
  },
  {
   "cell_type": "code",
   "execution_count": 646,
   "id": "f44d7c95",
   "metadata": {},
   "outputs": [
    {
     "data": {
      "text/plain": [
       "Emplead@/Obrer@                 50.249066\n",
       "Trabaja independiente           13.449564\n",
       "Trabajador@ del hogar           12.577833\n",
       "Estudiante                       6.537983\n",
       "Desemplead@                      6.102117\n",
       "Negocio familiar                 4.514321\n",
       "Jornaler@/Peon                   3.455791\n",
       "Patron/Empleador@                0.933998\n",
       "Trabajo negocio                  0.871731\n",
       "Vendedor@ o productor@           0.529265\n",
       "Trabajo domestico remunerado     0.435866\n",
       "Trabajo en el campo              0.217933\n",
       "Incapacitad@                     0.093400\n",
       "Jubilad@                         0.031133\n",
       "Name: ROL_eco, dtype: float64"
      ]
     },
     "execution_count": 646,
     "metadata": {},
     "output_type": "execute_result"
    }
   ],
   "source": [
    "(Juventudes_df['ROL_eco'].value_counts()/Juventudes_df['ROL_eco'].count())*100"
   ]
  },
  {
   "cell_type": "code",
   "execution_count": 637,
   "id": "7b403736",
   "metadata": {},
   "outputs": [
    {
     "data": {
      "text/plain": [
       "Emplead@/Obrer@          37.371882\n",
       "Independiente            20.286212\n",
       "Otros                    16.341133\n",
       "Trabajador@ del hogar    15.683620\n",
       "Jubilad@                  5.820924\n",
       "Negocio familiar          4.496229\n",
       "Name: Ocupacion, dtype: float64"
      ]
     },
     "execution_count": 637,
     "metadata": {},
     "output_type": "execute_result"
    }
   ],
   "source": [
    "(Pobrest_df['Ocupacion'].value_counts()/Pobrest_df['Ocupacion'].count())*100"
   ]
  },
  {
   "cell_type": "code",
   "execution_count": null,
   "id": "15913e60",
   "metadata": {},
   "outputs": [],
   "source": []
  },
  {
   "cell_type": "code",
   "execution_count": 673,
   "id": "3228ca2d",
   "metadata": {},
   "outputs": [
    {
     "data": {
      "image/png": "[encoded data removed]",
      "text/plain": [
       "<Figure size 702.525x396 with 1 Axes>"
      ]
     },
     "metadata": {
      "needs_background": "light"
     },
     "output_type": "display_data"
    },
    {
     "data": {
      "text/plain": [
       "<Figure size 2520x216 with 0 Axes>"
      ]
     },
     "metadata": {},
     "output_type": "display_data"
    }
   ],
   "source": [
    "graf_sex=sns.catplot(x='Poblacion de Interes',data=ENIF_Demos, kind='count',palette=paleta_green_deg_4 ,\n",
    "                     hue='Localidad', height=5.5,\n",
    "                      aspect=1.4)\n",
    "plt.xlabel('', fontsize=18)\n",
    "plt.ylabel('Conteo', fontsize=16)\n",
    "plt.annotate('49%',\n",
    "            xy=(100, 355), xycoords='figure points',weight=\"bold\")\n",
    "plt.annotate('23%',\n",
    "            xy=(145, 125), xycoords='figure points',weight=\"bold\")\n",
    "graf_age.fig.suptitle('')\n",
    "plt.annotate('14%',\n",
    "            xy=(185, 122), xycoords='figure points',weight=\"bold\")\n",
    "plt.annotate('13%',\n",
    "            xy=(230, 188), xycoords='figure points',weight=\"bold\")\n",
    "plt.annotate('46%',\n",
    "            xy=(331, 123), xycoords='figure points',weight=\"bold\")\n",
    "plt.annotate('22%',\n",
    "            xy=(385, 60), xycoords='figure points',weight=\"bold\")\n",
    "\n",
    "plt.annotate('16%',\n",
    "            xy=(430, 55), xycoords='figure points',weight=\"bold\")\n",
    "\n",
    "plt.annotate('13%',\n",
    "            xy=(472, 72), xycoords='figure points',weight=\"bold\")\n",
    "\n",
    "\n",
    "\n",
    "graf_age.fig.suptitle('')\n",
    "plt.figure(figsize=(35, 3))\n",
    "graf_sex.savefig('Results/Graphs/localidad_pp.png')"
   ]
  },
  {
   "cell_type": "code",
   "execution_count": 666,
   "id": "387963eb",
   "metadata": {},
   "outputs": [
    {
     "data": {
      "text/plain": [
       "100k> habitantes         49.081416\n",
       "2.5< habitantes          23.438406\n",
       "15k a 100k habitantes    13.914137\n",
       "2.5k a 15k habitantes    13.566041\n",
       "Name: Localidad, dtype: float64"
      ]
     },
     "execution_count": 666,
     "metadata": {},
     "output_type": "execute_result"
    }
   ],
   "source": [
    "(Pobrest_df['Localidad'].value_counts()/Pobrest_df['Localidad'].count())*100"
   ]
  },
  {
   "cell_type": "code",
   "execution_count": 667,
   "id": "5d661a04",
   "metadata": {},
   "outputs": [
    {
     "data": {
      "text/plain": [
       "100k> habitantes         46.948941\n",
       "2.5< habitantes          22.540473\n",
       "15k a 100k habitantes    16.874222\n",
       "2.5k a 15k habitantes    13.636364\n",
       "Name: Localidad, dtype: float64"
      ]
     },
     "execution_count": 667,
     "metadata": {},
     "output_type": "execute_result"
    }
   ],
   "source": [
    "(Juventudes_df['Localidad'].value_counts()/Juventudes_df['Localidad'].count())*100"
   ]
  },
  {
   "cell_type": "code",
   "execution_count": null,
   "id": "df3979d3",
   "metadata": {},
   "outputs": [],
   "source": []
  }
 ],
 "metadata": {
  "kernelspec": {
   "display_name": "Python 3 (ipykernel)",
   "language": "python",
   "name": "python3"
  },
  "language_info": {
   "codemirror_mode": {
    "name": "ipython",
    "version": 3
   },
   "file_extension": ".py",
   "mimetype": "text/x-python",
   "name": "python",
   "nbconvert_exporter": "python",
   "pygments_lexer": "ipython3",
   "version": "3.10.4"
  }
 },
 "nbformat": 4,
 "nbformat_minor": 5
}
